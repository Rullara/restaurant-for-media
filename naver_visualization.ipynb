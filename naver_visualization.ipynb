{
 "cells": [
  {
   "cell_type": "markdown",
   "id": "e9c58792-2b2c-4f0d-b50b-4a3652307a49",
   "metadata": {},
   "source": [
    "# 네이버 블로그로 파급력을 측정합니다."
   ]
  },
  {
   "cell_type": "code",
   "execution_count": null,
   "id": "51a5d96f-b72a-4c52-b196-84dbb6fa99bc",
   "metadata": {},
   "outputs": [],
   "source": [
    "import urllib.request\n",
    "import json\n",
    "import pandas as pd\n",
    "import re\n",
    "# 글에서 해당 키워드 찾기\n",
    "from konlpy.tag import Kkma\n",
    "# 시각화\n",
    "import matplotlib.pyplot as plt\n",
    "import seaborn as sns\n",
    "import numpy as np\n",
    "# 트리맵\n",
    "import squarify"
   ]
  },
  {
   "cell_type": "code",
   "execution_count": null,
   "id": "0d2b3295-8583-4c5b-9f85-8b069201733b",
   "metadata": {},
   "outputs": [],
   "source": [
    "# 파일 가져오기\n",
    "naver_total = pd.read_csv(\"./data/naver_blog/total_power.csv\")\n",
    "# 형 변환\n",
    "naver_total[\"oldestDate\"] = pd.to_datetime(naver_total[\"oldestDate\"]).apply(pd.Timestamp)\n",
    "naver_total[\"referenceDate\"] = pd.to_datetime(naver_total[\"referenceDate\"]).apply(pd.Timestamp)\n",
    "naver_total[\"mostRecentDate\"] = pd.to_datetime(naver_total[\"mostRecentDate\"]).apply(pd.Timestamp)\n",
    "# power3열 추가\n",
    "# (기준일 후 게시물 개수 / [(가장 마지막 게시물 날짜- 기준일) / (마지막날짜 - 오래된 날짜) * 100] - 기준일 전 게시물 개수 / [(기준일 - 게시물 중 가장 오래된 날짜) / (마지막날짜 - 오래된 날짜) * 100]\n",
    "# [기준일 후 게시물 개수 / (가장 마지막 게시물 날짜- 기준일) - 기준일 전 게시물 개수 / (기준일 - 게시물 중 가장 오래된 날짜)]* 100 *(마지막날짜 - 오래된 날짜)\n",
    "naver_total[\"power3\"] = ( naver_total[\"reference_after\"] / pd.to_numeric((naver_total[\"mostRecentDate\"] - naver_total[\"referenceDate\"]).dt.days, downcast='integer') - naver_total[\"reference_before\"] / pd.to_numeric((naver_total[\"referenceDate\"] - naver_total[\"oldestDate\"]).dt.days, downcast='integer')) * pd.to_numeric((naver_total[\"mostRecentDate\"] - naver_total[\"oldestDate\"]).dt.days, downcast='integer') / 100\n",
    "# reliability2열 추가\n",
    "naver_total[\"reliability2\"] = naver_total[\"resource_count\"] / (naver_total[\"reference_after\"] - naver_total[\"resource_count\"]) * 100\n",
    "# reliability열 추가\n",
    "naver_total[\"reliability\"] = naver_total[\"resource_count\"] / naver_total[\"reference_after\"] * 100\n",
    "# 결측치 처리 \n",
    "naver_total['power3'].fillna(0, inplace=True)\n",
    "naver_total['reliability2'].fillna(100, inplace=True)\n",
    "naver_total['reliability'].fillna(0, inplace=True)\n",
    "# 그룹열 만들기\n",
    "연예인 = [\"이영자\", \"백종원\", \"성시경\", \"신동엽\", \"최자\", \"비(정지훈)\", \"문세윤\", \"김준현\"]\n",
    "유튜버 = [\"더들리\", \"츄릅켠\"]\n",
    "방송프로그램 = [\"수요미식회\", \"생생정보통\", \"전참시\", \"생활의 달인\", \"6시 내 고향\", \"골목식당\", \"생방송 오늘 저녁\", \"모닝 와이드\", \"맛있는 녀석들\", \"생방송 투데이\"]\n",
    "groups = [연예인, 유튜버, 방송프로그램]\n",
    "groups_names = [\"연예인\", \"유튜버\", \"방송프로그램\"]\n",
    "for i, groups in enumerate(groups):\n",
    "    for media in groups:\n",
    "        naver_total.loc[naver_total[\"resource\"] == media, \"group\"] = groups_names[i]\n",
    "display(naver_total)\n",
    "naver_total.to_csv(\"./data/naver_blog/total_power.csv\", index=False)"
   ]
  },
  {
   "cell_type": "markdown",
   "id": "f1ab14d1-d4d6-4767-b0bf-3f3ebfd66f27",
   "metadata": {},
   "source": [
    "# 시각화"
   ]
  },
  {
   "cell_type": "code",
   "execution_count": null,
   "id": "fcf818bc-ac8d-4a11-bed3-bd42d81baff8",
   "metadata": {},
   "outputs": [],
   "source": [
    "# 폰트 임시파일이 설치된 곳\n",
    "matplotlib.get_cachedir()"
   ]
  },
  {
   "cell_type": "code",
   "execution_count": null,
   "id": "62a5d4db-da5c-45ad-8980-7a945912ac07",
   "metadata": {},
   "outputs": [],
   "source": [
    "# 폰트설정\n",
    "from matplotlib import font_manager, rc\n",
    "font_path = \"./data/font/21582067_G마켓산스Medium_OTF.otf\"   #폰트파일의 위치\n",
    "font_name = font_manager.FontProperties(fname=font_path).get_name() # rc 함수를 통해, rcParams에 사용되는 폰트의 정식명칭을 알 수 있음\n",
    "print(\"폰트설정 :\", font_name)\n",
    "rc('font', family=font_name)\n",
    "# 데이터 가져오기\n",
    "data = pd.read_csv(\"./data/naver_blog/total_power.csv\")\n",
    "display(data)"
   ]
  },
  {
   "cell_type": "markdown",
   "id": "237644f5-113f-4c19-a180-11419d7a3194",
   "metadata": {},
   "source": [
    "## 1. 산점도 그리기 : (resource - power3) (20 - (-? - ?))"
   ]
  },
  {
   "cell_type": "code",
   "execution_count": null,
   "id": "7a00ea01-fa84-4a39-8483-251022ecd4b1",
   "metadata": {},
   "outputs": [],
   "source": [
    "# 스타일 테마 설정 (5가지: darkgrid, whitegrid, dark, white, ticks)\n",
    "# sns.set_style('white')\n",
    "# sns.set(rc={'figure.figsize':(11.7,8.27)})\n",
    "plt.figure(figsize=(16,6))\n",
    "\n",
    "#이산형 변수의 분포 - 데이터 분산 고려 (중복 X) \n",
    "sns.swarmplot(x=\"resource\",      #x축 변수\n",
    "              y=\"power3\",        #y축 변수\n",
    "              data=data)   #데이터셋 - 데이터프레임\n",
    "\n",
    "# data.plot(kind='scatter', x='resource', y='power3', marker='+',\n",
    "#         cmap='viridis', s=50, alpha=0.3, figsize=(20, 5))\n",
    "plt.title()\n",
    "plt.show()"
   ]
  },
  {
   "cell_type": "markdown",
   "id": "ce5b0e18-bc4c-4657-abf8-dd4e9cad08ef",
   "metadata": {},
   "source": [
    "## 2. 나무맵 : 블로그 게시물 개수(200개 아님)"
   ]
  },
  {
   "cell_type": "code",
   "execution_count": null,
   "id": "0978afd7-ab57-48b2-8d9d-986d9309d1c0",
   "metadata": {},
   "outputs": [],
   "source": [
    "!pip install squarify"
   ]
  },
  {
   "cell_type": "code",
   "execution_count": null,
   "id": "c6635e1b-79b3-48cf-b9c3-208a4748bbce",
   "metadata": {},
   "outputs": [],
   "source": [
    "# 나무맵 : 전수조사용\n",
    "plt.figure(figsize=(10,5))\n",
    "# 라벨 구하기\n",
    "temp = data.copy()\n",
    "#temp = temp.sort_values(by=\"blogTotal\", ascending = False)\n",
    "temp.loc[temp[\"blogTotal\"] <= 250000,\"restaurant\"] = \"\"\n",
    "squarify.plot(sizes=data[\"blogTotal\"], label = temp[\"restaurant\"], alpha=0.6)\n",
    "plt.axis('off')\n",
    "plt.savefig('./output/treemap.png')\n",
    "plt.show()"
   ]
  },
  {
   "cell_type": "code",
   "execution_count": null,
   "id": "4faaabcd-cd05-43a0-a47d-1798f4e4f40b",
   "metadata": {},
   "outputs": [],
   "source": [
    "# 나무맵 : 항목별 5개씩\n",
    "rastaurant = pd.read_excel(\"./output/음식점 모음.xlsx\", sheet_name=\"Sheet1\")\n",
    "rastaurant = rastaurant.head(5)\n",
    "temp = pd.DataFrame()\n",
    "연예인 = [\"이영자\", \"백종원\", \"성시경\", \"신동엽\", \"최자\", \"비(정지훈)\", \"문세윤\", \"김준현\"]\n",
    "유튜버 = [\"더들리\", \"츄릅켠\"]\n",
    "방송프로그램 = [\"수요미식회\", \"생생정보통\", \"전참시\", \"생활의 달인\", \"6시 내 고향\", \"골목식당\", \"생방송 오늘 저녁\", \"모닝 와이드\", \"맛있는 녀석들\", \"생방송 투데이\"]\n",
    "names = 연예인 + 유튜버 + 방송프로그램\n",
    "for name in names:\n",
    "    for i in range(len(rastaurant[name])):\n",
    "        mask = (data[\"resource\"] == name) & (data[\"restaurant\"] == rastaurant[name][i])\n",
    "        temp = temp.append(data.loc[mask].head(1))\n",
    "# 라벨 구하기\n",
    "temp.loc[temp[\"blogTotal\"] <= 20000,\"restaurant\"] = \"\"\n",
    "# 그래프 그리기\n",
    "plt.figure(figsize=(10,5))\n",
    "squarify.plot(sizes=temp[\"blogTotal\"], label = temp[\"restaurant\"], alpha=0.6)\n",
    "plt.axis('off')\n",
    "plt.savefig('./output/treemap2.png')\n",
    "plt.show()"
   ]
  },
  {
   "cell_type": "markdown",
   "id": "7a2e6cb9-a35e-493d-8b4d-a54039f1fbbc",
   "metadata": {},
   "source": [
    "## 3. 막대 그래프 그리기\n",
    "* file : power3(사람별 - 해당 미디어의 영향력) power3값을 평균 사람별로(방송별) 막대그래프 (x-20개 y-(-?, ?))\n",
    "* (사람별 - 영향력의 크기) reliability2값을 평균 사람별로(방송별) 막대그래프 (x-20개 y-(-?, ?))\n",
    "* (사람별 - 글을 작성할 확률) reliability값을 평균 사람별로(방송별) 막대그래프 (x-20개 y-(-?, ?))"
   ]
  },
  {
   "cell_type": "code",
   "execution_count": null,
   "id": "b738fe3b-0273-473e-a2fe-ea4011156729",
   "metadata": {},
   "outputs": [],
   "source": [
    "df1 = data.groupby(\"resource\").mean()\n",
    "display(df1)"
   ]
  },
  {
   "cell_type": "code",
   "execution_count": null,
   "id": "1bf75d24-29de-49e8-843f-0f55da958855",
   "metadata": {},
   "outputs": [],
   "source": [
    "plt.figure(figsize=(16,6))\n",
    "plt.title(\"사람별 식당 언급 횟수의 평균\")\n",
    "r = df1.resource_count.plot(kind='bar')\n",
    "print(r)"
   ]
  },
  {
   "cell_type": "code",
   "execution_count": null,
   "id": "4f6e7a81-c49f-4172-b7e1-c8353732ad0b",
   "metadata": {},
   "outputs": [],
   "source": [
    "plt.figure(figsize=(20,5))\n",
    "\n",
    "x = df1.index\n",
    "y = df1.power3\n",
    "plt.title(\"사람별 파급력(power)과 신뢰도(reliability)의 평균\")\n",
    "my_color = np.where(y>=0, 'skyblue', 'orange')\n",
    "plt.bar(x, y, color=my_color)\n",
    "\n",
    "for i, v in enumerate(x):\n",
    "    if df1.power3[i] > 0:\n",
    "        plt.text(v, y[i], round(df1.reliability[i], 2),       \n",
    "                 fontsize = 9, \n",
    "                 color='black',\n",
    "                 horizontalalignment='center',  \n",
    "                 verticalalignment='bottom') \n",
    "    else :\n",
    "        plt.text(v, y[i], round(df1.reliability[i], 2),       \n",
    "                 fontsize = 9, \n",
    "                 color='black',\n",
    "                 horizontalalignment='center',  \n",
    "                 verticalalignment='top')\n",
    "plt.ylim(-2,19)\n",
    "plt.show()"
   ]
  },
  {
   "cell_type": "markdown",
   "id": "6a23cfbe-6298-4d4f-ab35-bd313dd4734a",
   "metadata": {},
   "source": [
    "<br>\n",
    "\n",
    "## 4. 분산분석을 통하여 3개 이상의 집단 간에 차이가 존재하는지 분석하고자 함\n",
    "\n",
    "가설1 : 미디어에 따라 파급력의 차이가 있는가?  \n",
    "가설2 : 미디어에 따라 파급력을 미치는 크기에 차이가 있는가?  \n",
    "가설3 : 미디어에 따라 글을 작성할 확률에 차이가 있는가?\n",
    "\n",
    "<hr>\n",
    "\n",
    "분산분석(미디어별 - 해당 미디어의 영향력) power값  \n",
    "<p>분산분석(미디어별 - 영향력의 크기) reliability2값</p>\n",
    "<p>분산분석(미디어별 - 글을 작성할 확률) reliability값</p>"
   ]
  },
  {
   "cell_type": "markdown",
   "id": "638efc27-aca8-465c-8128-b8d93a3ed656",
   "metadata": {},
   "source": [
    "#### 가설1 : 미디어에 따라 파급력의 차이가 있는가?"
   ]
  },
  {
   "cell_type": "code",
   "execution_count": null,
   "id": "dde0a3fc-60fc-403a-935c-ec1e76d62711",
   "metadata": {},
   "outputs": [],
   "source": [
    "from statsmodels.formula.api import ols\n",
    "from statsmodels.stats.anova import anova_lm\n",
    "\n",
    "df = data\n",
    "model = ols(\"df['power3'] ~ df['group']\", df).fit()\n",
    "anova_lm(model)"
   ]
  },
  {
   "cell_type": "code",
   "execution_count": null,
   "id": "1a4de010-ef55-4150-a8bc-7b84ca54ad0d",
   "metadata": {},
   "outputs": [],
   "source": [
    "# 집단 간의 차이가 유의할 경우, 어느 집단 간에 차이가 나타나는지 보다 구체적으로 보기 위하여 '사후 분석'을 실시\n",
    "# 여기서는 봉페르니 방식의 교정과 Tukey HSD의 방법으로 사후분석\n",
    "from statsmodels.sandbox.stats.multicomp import MultiComparison\n",
    "import scipy.stats\n",
    "\n",
    "comp = MultiComparison(df['power3'], df['group'])\n",
    "result = comp.allpairtest(scipy.stats.ttest_ind, method='bonf') # 봉페르니\n",
    "print(result[0])\n",
    "\n",
    "#투키의 HSD - Tuckey's Honestly Significant Difference = \"진정으로 유의미한 차이\"\n",
    "from statsmodels.stats.multicomp import pairwise_tukeyhsd\n",
    "hsd = pairwise_tukeyhsd(df['power3'], df['group'], alpha=0.05)\n",
    "hsd.summary()"
   ]
  },
  {
   "cell_type": "markdown",
   "id": "be2025b9-93da-49cd-8360-3e9067ed198f",
   "metadata": {},
   "source": [
    "#### 가설2 : 미디어에 따라 파급력을 미치는 크기에 차이가 있는가?"
   ]
  },
  {
   "cell_type": "code",
   "execution_count": null,
   "id": "bffebfe5-6d01-4ab2-9a85-24819f263f7c",
   "metadata": {},
   "outputs": [],
   "source": [
    "model = ols(\"df['reliability'] ~ df['group']\", df).fit()\n",
    "anova_lm(model)"
   ]
  },
  {
   "cell_type": "code",
   "execution_count": null,
   "id": "166e9f22-1d49-48da-bebe-16af6fbb9099",
   "metadata": {},
   "outputs": [],
   "source": [
    "# 집단 간의 차이가 유의할 경우, 어느 집단 간에 차이가 나타나는지 보다 구체적으로 보기 위하여 '사후 분석'을 실시\n",
    "# 여기서는 봉페르니 방식의 교정과 Tukey HSD의 방법으로 사후분석\n",
    "from statsmodels.sandbox.stats.multicomp import MultiComparison\n",
    "import scipy.stats\n",
    "\n",
    "comp = MultiComparison(df['reliability'], df['group'])\n",
    "result = comp.allpairtest(scipy.stats.ttest_ind, method='bonf') # 봉페르니\n",
    "print(result[0])\n",
    "\n",
    "#투키의 HSD - Tuckey's Honestly Significant Difference = \"진정으로 유의미한 차이\"\n",
    "from statsmodels.stats.multicomp import pairwise_tukeyhsd\n",
    "hsd = pairwise_tukeyhsd(df['reliability'], df['group'], alpha=0.05)\n",
    "hsd.summary()"
   ]
  },
  {
   "cell_type": "markdown",
   "id": "3aa15f4b-b7e8-405d-b348-4d42a236c5c5",
   "metadata": {},
   "source": [
    "#### 가설3 : 미디어에 따라 글을 작성할 확률에 차이가 있는가?"
   ]
  },
  {
   "cell_type": "code",
   "execution_count": null,
   "id": "fc427a5a-5f21-4c91-961f-916c5a666f8a",
   "metadata": {},
   "outputs": [],
   "source": [
    "# 집단 간의 차이가 유의할 경우, 어느 집단 간에 차이가 나타나는지 보다 구체적으로 보기 위하여 '사후 분석'을 실시\n",
    "# 여기서는 봉페르니 방식의 교정과 Tukey HSD의 방법으로 사후분석\n",
    "from statsmodels.sandbox.stats.multicomp import MultiComparison\n",
    "import scipy.stats\n",
    "\n",
    "comp = MultiComparison(df['reliability2'], df['group'])\n",
    "result = comp.allpairtest(scipy.stats.ttest_ind, method='bonf') # 봉페르니\n",
    "print(result[0])\n",
    "\n",
    "#투키의 HSD - Tuckey's Honestly Significant Difference = \"진정으로 유의미한 차이\"\n",
    "from statsmodels.stats.multicomp import pairwise_tukeyhsd\n",
    "hsd = pairwise_tukeyhsd(df['reliability2'], df['group'], alpha=0.05)\n",
    "hsd.summary()"
   ]
  },
  {
   "cell_type": "markdown",
   "id": "9db5a362-bc5c-4a98-8b6d-8becfaba00dd",
   "metadata": {},
   "source": [
    "#### 분석 결과 해석\n",
    ": Pr(>F)== p-value. \n",
    "<hr>  \n",
    "\n",
    "***\n",
    "\n",
    "##### 가설1 : 미디어에 따라 파급력의 차이가 있는가?\n",
    "\n",
    "분산분석: p-value가 0.05보다 작으므로, 집단 간에 통계적으로 유의한 차이가 나타남\n",
    "사후분석: pval의 값이 0.05보다 낮으므로, 방송프로그램과 유튜버 간의 차이가 유의하여 주효과가 나타난다.\n",
    "\n",
    "##### 가설2 : 미디어에 따라 파급력을 미치는 크기에 차이가 있는가?\n",
    "\n",
    "분산분석: p-value가 부동소수로 표현 될만큼 낮은 숫자이고, 0.05보다 작으므로 집단 간에 통계적으로 유의한 차이가 나타남\n",
    "사후분석: pval의 값이 0.05보다 낮으므로, 방송프로그램과 연예인 간의 차이가 유의하여 주효과가 나타난다.\n",
    "##### 가설3 : 미디어에 따라 글을 작성할 확률에 차이가 있는가?\n",
    "\n",
    "분산분석: p-value가 부동소수로 표현 될만큼 낮은 숫자이고, 0.05보다 작으므로 집단 간에 통계적으로 유의한 차이가 나타남\n",
    "사후분석: pval의 값이 0.05보다 낮으므로, 방송프로그램과 연예인 간의 차이가 유의하여 주효과가 나타난다."
   ]
  },
  {
   "cell_type": "markdown",
   "id": "db9b9b69-da8d-4a80-baa3-36376583f017",
   "metadata": {},
   "source": [
    "### 5. 시계열 / 워드 클라우드(자주 사용하는 단어 찾기) 47- 하니칼국수 - 성시경 / 181-코카모메-츄릅켠 / 270-전참시-몽탄"
   ]
  },
  {
   "cell_type": "code",
   "execution_count": null,
   "id": "8222a118-e120-4955-b2a2-2cc60280fd44",
   "metadata": {},
   "outputs": [],
   "source": [
    "lists = [\"하니칼국수_성시경\", \"코카모메_츄릅켠\", \"몽탄_전참시\"]\n",
    "for item in lists:\n",
    "    file = \"./data/naver_blog/rowdata/\" + item + \".csv\"\n",
    "    temp = pd.read_csv(file)\n",
    "    temp.sort_values(by = \"postdate\", ascending=True, inplace=True)\n",
    "    temp.postdate = pd.to_datetime(temp['postdate'])\n",
    "    # 기간 나누기\n",
    "    # temp['period'] = temp['postdate'].dt.to_period(freq='M')  # 년-월\n",
    "    # 그래프 그리기\n",
    "    plt.figure(figsize=(10,6))\n",
    "    temp[\"test\"] = 1\n",
    "    plt.hist(temp[\"postdate\"], weights=temp[\"test\"], bins=10, cumulative = True, color=\"orange\")\n",
    "    plt.hist(temp[\"postdate\"], weights=temp[\"test\"], bins=10, cumulative = False, color=\"skyblue\")\n",
    "    plt.title(item + \" 시계열 그래프\")\n",
    "    plt.show()"
   ]
  },
  {
   "cell_type": "code",
   "execution_count": null,
   "id": "cb1e24a6-ecb2-4084-bd94-1690700303d2",
   "metadata": {},
   "outputs": [],
   "source": [
    "filelists = [\"하니칼국수_성시경\", \"코카모메_츄릅켠\", \"몽탄_전참시\"]\n",
    "referenceDate = ['2021-05', '2021-08', \"2021-03\"]\n",
    "for i in range(len(filelists)):\n",
    "    file = \"./data/naver_blog/rowdata/\" + filelist[i] + \".csv\"\n",
    "    temp = pd.read_csv(file)\n",
    "    temp.sort_values(by = \"postdate\", ascending=True, inplace=True)\n",
    "    temp.postdate = pd.to_datetime(temp['postdate'])\n",
    "    # 기간 나누기\n",
    "    temp['period'] = temp['postdate'].dt.to_period(freq='M')  # 년-월\n",
    "    # 기간별로 포스트 개수 세기\n",
    "    period_count = temp.groupby(\"period\").count()[[\"postdate\"]]\n",
    "    period_count.rename(columns = {\"postdate\": \"count\"}, inplace=True)\n",
    "    # 누적합 열 추가하기\n",
    "    period_count[\"cum\"] = period_count[[\"count\"]].cumsum()\n",
    "    # 그래프 그리기\n",
    "    plt.figure(figsize=(16,8))\n",
    "    # 그래프를 그리기 위한 형변환\n",
    "    period_count.index=period_count.index.to_series().astype(str)\n",
    "    # 기준일 색깔 넣기\n",
    "    my_color = np.where(period_count.index == referenceDate[0], 'skyblue', 'orange')\n",
    "    # 라인그래프 그리기\n",
    "    plt.plot(period_count.index, period_count[\"cum\"], marker='o')\n",
    "    # 기준일 그리기\n",
    "    plt.axvline(referenceDate[i], color='lightgray', linestyle='--', linewidth=2)\n",
    "    plt.text(referenceDate[i], period_count[\"cum\"].max() * 0.95, \"기준선\",       \n",
    "             fontsize = 15, \n",
    "             color='lightgray',\n",
    "             horizontalalignment='center') \n",
    "    # 바그래프 그리기\n",
    "    plt.bar(period_count.index, period_count[\"count\"], color=\"blue\",align='center')\n",
    "    plt.title(filelists[i] + \" 시계열 그래프\")\n",
    "    plt.savefig('./output/' + filelists[i] + ' 시계열 그래프.png')\n",
    "    plt.show()"
   ]
  },
  {
   "cell_type": "markdown",
   "id": "060ad344-cfa8-4ad3-95af-5efa3042a4ad",
   "metadata": {},
   "source": [
    "# 문제모음"
   ]
  },
  {
   "cell_type": "markdown",
   "id": "ecb9274f-4ad6-44ea-923b-32dbd1054eb8",
   "metadata": {},
   "source": [
    "1. 인스턴스가 삭제가 안됩니다.\n",
    "2. 파일 데이터를 불러올때 몇몇의 파일을 읽어오지 못합니다.\n",
    "3. seaborn에서 한글 폰트를 인식하지 못합니다."
   ]
  },
  {
   "cell_type": "code",
   "execution_count": null,
   "id": "5a3baf27-ef5d-4303-9cb3-a1b5ce704fc0",
   "metadata": {},
   "outputs": [],
   "source": [
    "# 폰트설정2\n",
    "sns.set(font=\"Malgun Gothic\", \n",
    "        rc={\"axes.unicode_minus\":False},\n",
    "        style='darkgrid')\n",
    "\n",
    "# 폰트설정3\n",
    "jupyter notebook 내 그래프를 바로 그리기 위한 설정\n",
    "%matplotlib inline\n",
    "# unicode minus를 사용하지 않기 위한 설정 (minus 깨짐현상 방지)\n",
    "plt.rcParams['axes.unicode_minus'] = False\n",
    "plt.rcParams['font.family'] = 'Malgun Gothic'\n",
    "\n",
    "# 폰트설정4\n",
    "%matplotlib inline\n",
    "import platform\n",
    "path = './data/THEdog.ttf'\n",
    "from matplotlib import font_manager, rc\n",
    "\n",
    "if platform.system() == 'Darwin':\n",
    "    rc('font', family='AppleGothic')\n",
    "elif platform.system() == 'Windows':\n",
    "    font_name = font_manager.FontProperties(fname=path).get_name()\n",
    "    rc('font', family=font_name)\n",
    "else:\n",
    "    print('Unkonwn system... sorry~~~~')"
   ]
  }
 ],
 "metadata": {
  "kernelspec": {
   "display_name": "Python 3 (ipykernel)",
   "language": "python",
   "name": "python3"
  },
  "language_info": {
   "codemirror_mode": {
    "name": "ipython",
    "version": 3
   },
   "file_extension": ".py",
   "mimetype": "text/x-python",
   "name": "python",
   "nbconvert_exporter": "python",
   "pygments_lexer": "ipython3",
   "version": "3.8.11"
  }
 },
 "nbformat": 4,
 "nbformat_minor": 5
}
