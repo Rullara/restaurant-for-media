{
 "cells": [
  {
   "cell_type": "markdown",
   "id": "c4419df0-cc67-4836-aac4-de56c22a28bd",
   "metadata": {},
   "source": [
    "# 인스타그램 로그인\n",
    "<hr>\n",
    "아래에 정의된 함수들을 한 번씩만 실시하고, 이 함수를 사용한 코드들을 모아둔 코드에서 크롤링을 실시하기\n",
    "위의 코드들은 함수를 미리 정의하여, 크롤링 사용에 용이하도록 만든 코드들임"
   ]
  },
  {
   "cell_type": "code",
   "execution_count": 2,
   "id": "5fe9a69d-45be-4571-beb8-ffb54c787360",
   "metadata": {},
   "outputs": [],
   "source": [
    "from selenium import webdriver\n",
    "from bs4 import BeautifulSoup\n",
    "import time\n",
    "import re\n",
    "\n",
    "# 크롬 브라우저 열기\n",
    "driver = webdriver.Chrome('C:/Temp/chromedriver')\n",
    "\n",
    "driver.get(\"https://www.instagram.com/accounts/login/\")\n",
    "time.sleep(2)\n",
    "\n",
    "email = '22milky@naver.com'\n",
    "input_id = driver.find_elements_by_css_selector('input._2hvTZ.pexuQ.zyHYP')[0]\n",
    "input_id.clear()\n",
    "input_id.send_keys(email)\n",
    "\n",
    "password = '09Qhfkadl!' \n",
    "input_pw = driver.find_elements_by_css_selector('input._2hvTZ.pexuQ.zyHYP')[1]\n",
    "input_pw.clear()\n",
    "input_pw.send_keys(password)\n",
    "input_pw.submit()"
   ]
  },
  {
   "cell_type": "code",
   "execution_count": 19,
   "id": "0a505b65-3a76-484a-9725-132caed22bce",
   "metadata": {},
   "outputs": [],
   "source": [
    "# 인스타그램 해시태그 검색\n",
    "\n",
    "def insta_searching(word):\n",
    "    url = \"https://www.instagram.com/explore/tags/\" + word\n",
    "    return url\n",
    "import time\n",
    "\n",
    "word = \"산수갑산\"\n",
    "url = insta_searching(word)\n",
    "driver.get(url)\n",
    "time.sleep(5)"
   ]
  },
  {
   "cell_type": "code",
   "execution_count": 20,
   "id": "ca838c94-31ff-437c-920f-7d69c7dcc3fb",
   "metadata": {},
   "outputs": [],
   "source": [
    "# 총 게시물 개수\n",
    "\n",
    "postnumber = driver.find_elements_by_css_selector(\"span > span.g47SY\")[0].text.replace(',', '')\n",
    "postnumber = int(postnumber)"
   ]
  },
  {
   "cell_type": "code",
   "execution_count": 21,
   "id": "6ee59b63-d1be-42d6-85ce-055645889ff0",
   "metadata": {},
   "outputs": [],
   "source": [
    "# 첫번째 게시물 열기\n",
    "\n",
    "def select_first(driver):\n",
    "    first = driver.find_element_by_css_selector(\"div._9AhH0\")\n",
    "    first.click()\n",
    "    time.sleep(2)\n",
    "    \n",
    "select_first(driver)"
   ]
  },
  {
   "cell_type": "code",
   "execution_count": 22,
   "id": "e02e600a-9646-4df4-9f60-f0c1e119add7",
   "metadata": {},
   "outputs": [
    {
     "data": {
      "text/plain": [
       "['#을지로맛집#산수갑산‘순대 팔아서 별관 건물을 세웠다’오랜만에 찾은 산수갑산의 인기는오후 장사가 시작될 때부터 장난이 없네요이 집 모듬 수육에 소주 한잔 드시려는 손님들 연령대도젊은 사람들과 어르신들이 공존하고 있었습니다방금 썰어낸 돼지의 머릿고기, 오소리감투, 암뽕간, 대창이 얼마나 푸짐하게 나오던지 이 한접시면 인당 소주 2병은 까야되는 비주얼이네요산수갑산의 시그니처 대창순대는 식감이 얼마나 쫄깃하던지 고소한 맛이랑정말 잘 어울리는게 제 입맛에는 딱이네요일년만에 방문한 산수갑산은 여전히 맛있는 순대와 부속에많은 손님들의 술 안주로 인기가 상당했습니다🙏#아가리을지로',\n",
       " '2021-02-17',\n",
       " 0,\n",
       " '산수갑산',\n",
       " ['#을지로맛집', '#산수갑산‘순대', '#아가리을지로']]"
      ]
     },
     "execution_count": 22,
     "metadata": {},
     "output_type": "execute_result"
    }
   ],
   "source": [
    "# 게시물 내용 크롤링\n",
    "\n",
    "import re\n",
    "from bs4 import BeautifulSoup\n",
    "\n",
    "def get_content(driver):\n",
    "    \n",
    "    html = driver.page_source\n",
    "    soup = BeautifulSoup(html, 'lxml')\n",
    "    # 본문 내용 \n",
    "    try:\n",
    "        content = soup.select('div.C4VMK > span')[0].text\n",
    "    except:\n",
    "        content = ' '\n",
    "    # 해시태그 \n",
    "    tags = re.findall(r'#[^\\s#,\\\\]+', content)  \n",
    "    # 작성일자 \n",
    "    try:\n",
    "        date = soup.select('time._1o9PC.Nzb55')[0]['datetime'][:10]\n",
    "    except:\n",
    "        date = ''\n",
    "    # 좋아요 \n",
    "    try:\n",
    "        like = soup.select('div.Nm9Fw > button')[0].text[4:-1]   \n",
    "    except:\n",
    "        like = 0\n",
    "    # 위치\n",
    "    try: \n",
    "        place = soup.select('div.M30cS')[0].text\n",
    "    except:\n",
    "        place = ''\n",
    "   \n",
    "    data = [content, date, like, place, tags]\n",
    "    time.sleep(1)\n",
    "    return data\n",
    "    \n",
    "\n",
    "get_content(driver)"
   ]
  },
  {
   "cell_type": "code",
   "execution_count": 23,
   "id": "e46e8d7a-794c-4707-a8d3-97ea31e1b04a",
   "metadata": {},
   "outputs": [],
   "source": [
    "# 다음 게시물로 이동\n",
    "\n",
    "def move_next(driver):\n",
    "\n",
    "    right = driver.find_element_by_css_selector ('a.coreSpriteRightPaginationArrow')\n",
    "    right.click()\n",
    "    time.sleep(1)\n",
    "\n",
    "move_next(driver)"
   ]
  },
  {
   "cell_type": "markdown",
   "id": "28da4481-d4a0-4636-848f-2895c64a4a27",
   "metadata": {
    "tags": []
   },
   "source": [
    "# 인스타그램 게시물 크롤링 하기    <img src='data/instagram.PNG' width=120 height=120 align=\"right\">         \n",
    "### : 본격적인 크롤링은 아래의 코드를 사용하기\n",
    "<hr>\n",
    "위에 코드들을 한 번 씩 실행 후, 아래의 코드에 word 내용만 변경하여 실행하면 반복 실행 "
   ]
  },
  {
   "cell_type": "code",
   "execution_count": null,
   "id": "c062a535-c050-47e1-b7c2-2edd5d29de81",
   "metadata": {},
   "outputs": [],
   "source": [
    "import pandas as pd\n",
    "\n",
    "df = pd.read_excel('output/음식점 모음.xlsx').fillna(\"missing\")\n",
    "\n",
    "for i in range(30) :\n",
    "    # for j in range(20) :\n",
    "    if df.iloc[i, 0] != \"missing\":\n",
    "        search = df.iloc[i, 0]\n",
    "\n",
    "        url = insta_searching(search)\n",
    "        driver.get(url)\n",
    "        time.sleep(8)\n",
    "\n",
    "        postnumber = driver.find_elements_by_css_selector(\"span > span.g47SY\")[0].text.replace(',', '')\n",
    "        postnumber = int(postnumber)\n",
    "\n",
    "        select_first(driver)\n",
    "        instagram = []\n",
    "        data = []\n",
    "        \n",
    "        for k in range(postnumber - 1) :\n",
    "            html = driver.page_source\n",
    "            soup = BeautifulSoup(html, 'lxml')\n",
    "            # 본문 내용 \n",
    "            try:\n",
    "                content = soup.select('div.C4VMK > span')[0].text\n",
    "            except:\n",
    "                content = ' '\n",
    "            # 해시태그 \n",
    "            tags = re.findall(r'#[^\\s#,\\\\]+', content)  \n",
    "            # 작성일자 \n",
    "            try:\n",
    "                date = soup.select('time._1o9PC.Nzb55')[0]['datetime'][:10]\n",
    "            except:\n",
    "                date = ''\n",
    "            # 좋아요 \n",
    "            try:\n",
    "                like = soup.select('div.Nm9Fw > button')[0].text[4:-1]   \n",
    "            except:\n",
    "                like = 0\n",
    "            # 위치\n",
    "            try: \n",
    "                place = soup.select('div.M30cS')[0].text\n",
    "            except:\n",
    "                place = ''\n",
    "\n",
    "            data = [content, date, like, place, tags]\n",
    "            instagram = [instagram, data]\n",
    "            move_next(driver)\n",
    "\n",
    "            \n",
    "        data_df = pd.DataFrame(instagram)\n",
    "        data_df.columns = ['content','hashtag','date','like','place']\n",
    "        data_df.to_excel('/resraurant_for_media/output/instagram.xlsx', sheet = i + 1)"
   ]
  },
  {
   "cell_type": "code",
   "execution_count": null,
   "id": "8350a290-818c-46c9-bacd-3a207a1febb7",
   "metadata": {},
   "outputs": [],
   "source": []
  }
 ],
 "metadata": {
  "kernelspec": {
   "display_name": "pydatavenv",
   "language": "python",
   "name": "pydatavenv"
  },
  "language_info": {
   "codemirror_mode": {
    "name": "ipython",
    "version": 3
   },
   "file_extension": ".py",
   "mimetype": "text/x-python",
   "name": "python",
   "nbconvert_exporter": "python",
   "pygments_lexer": "ipython3",
   "version": "3.8.11"
  }
 },
 "nbformat": 4,
 "nbformat_minor": 5
}
