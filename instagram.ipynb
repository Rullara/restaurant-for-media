{
 "cells": [
  {
   "cell_type": "code",
   "execution_count": 32,
   "id": "d104144e-1c41-4a8e-b0d8-b210770e947b",
   "metadata": {},
   "outputs": [],
   "source": [
    "from selenium import webdriver\n",
    "from bs4 import BeautifulSoup\n",
    "import time\n",
    "import re\n",
    "\n",
    "# 크롬 브라우저 열기\n",
    "driver = webdriver.Chrome('C:/Temp/chromedriver')\n",
    "\n",
    "driver.get(\"https://www.instagram.com/accounts/login/\")\n",
    "time.sleep(2)\n",
    "\n",
    "email = '22milky@naver.com'\n",
    "input_id = driver.find_elements_by_css_selector('input._2hvTZ.pexuQ.zyHYP')[0]\n",
    "input_id.clear()\n",
    "input_id.send_keys(email)\n",
    "\n",
    "password = '09Qhfkadl!' \n",
    "input_pw = driver.find_elements_by_css_selector('input._2hvTZ.pexuQ.zyHYP')[1]\n",
    "input_pw.clear()\n",
    "input_pw.send_keys(password)\n",
    "input_pw.submit()"
   ]
  },
  {
   "cell_type": "code",
   "execution_count": 73,
   "id": "52f0245a-340a-4d7f-acf4-f9cfdbaab485",
   "metadata": {},
   "outputs": [
    {
     "name": "stdout",
     "output_type": "stream",
     "text": [
      "17905\n"
     ]
    }
   ],
   "source": [
    "def insta_searching(word):\n",
    "    url = \"https://www.instagram.com/explore/tags/\" + word\n",
    "    return url\n",
    "import time\n",
    "\n",
    "word = \"산수갑산\"\n",
    "url = insta_searching(word)\n",
    "driver.get(url)\n",
    "time.sleep(5)\n",
    "\n",
    "postnumber = driver.find_elements_by_css_selector(\"#react-root > section > main > header > div.WSpok > div > div:nth-child(2) > span > span\")[0].text.replace(\",\",\"\")\n",
    "print(postnumber)"
   ]
  },
  {
   "cell_type": "code",
   "execution_count": 38,
   "id": "6ee59b63-d1be-42d6-85ce-055645889ff0",
   "metadata": {},
   "outputs": [],
   "source": [
    "def select_first(driver):\n",
    "    first = driver.find_element_by_css_selector(\"div._9AhH0\")\n",
    "    first.click()\n",
    "    time.sleep(3)\n",
    "    \n",
    "select_first(driver)"
   ]
  },
  {
   "cell_type": "code",
   "execution_count": 39,
   "id": "e02e600a-9646-4df4-9f60-f0c1e119add7",
   "metadata": {},
   "outputs": [
    {
     "data": {
      "text/plain": [
       "['🐷산수갑산⠀✅이곳의 순대국밥은 꼭 한번 먹어봐야 한다고 봐~⠀⠀🧾순대정식(1.2)⠀⠀⠀✏️이곳의 순대정식은 다양한 부위로 구성된 순대모듬과 순대국의 국물이 함께 제공된다. 먼저 순대모듬은 대창순대, 오소리감투, 간, 머릿고기 등이 제공되어 탄탄한 구성이 돋보였고, 찹쌀이 들어간 대창순대의 고소함, 오소리감투의 쫄깃한 식감, 그리고 선도가 돋보여 부드러웠던 간이 가장 기억에 남았다. 뽀얀 빛깔의 순대국밥은 입안에 늘러 붙는 농밀한 국물에 진하고 묵직하기 보다 가벼움과 깔끔함이 강조되어 있어 만족스러웠다. 전국구로 이름을 날리고 있는 만큼 웨이팅은 감수해야 하고 국밥을 좋아한다면 꼭 한번 방문해봐야 할 성지와 같은 곳이다.⠀⠀⠀🍽 ★ ★ ★ ★ ☆⠀⠀⠀⠀📍서울 중구 을지로20길 24⠀⠀⠀#정슐랭 #정슐랭을지로 #정슐랭한식 #정슐랭산수갑산 #정슐랭별넷',\n",
       " '2021-08-16',\n",
       " 0,\n",
       " '산수갑산',\n",
       " ['#정슐랭', '#정슐랭을지로', '#정슐랭한식', '#정슐랭산수갑산', '#정슐랭별넷']]"
      ]
     },
     "execution_count": 39,
     "metadata": {},
     "output_type": "execute_result"
    }
   ],
   "source": [
    "import re\n",
    "from bs4 import BeautifulSoup\n",
    "\n",
    "def get_content(driver):\n",
    "    \n",
    "    html = driver.page_source\n",
    "    soup = BeautifulSoup(html, 'lxml')\n",
    "    # 본문 내용 \n",
    "    try:\n",
    "        content = soup.select('div.C4VMK > span')[0].text\n",
    "    except:\n",
    "        content = ' '\n",
    "    # 해시태그 \n",
    "    tags = re.findall(r'#[^\\s#,\\\\]+', content)  \n",
    "    # 작성일자 \n",
    "    date = soup.select('time._1o9PC.Nzb55')[0]['datetime'][:10]\n",
    "    # 좋아요 \n",
    "    try:\n",
    "        like = soup.select('div.Nm9Fw > button')[0].text[4:-1]   \n",
    "    except:\n",
    "        like = 0\n",
    "    # 위치\n",
    "    try: \n",
    "        place = soup.select('div.M30cS')[0].text\n",
    "    except:\n",
    "        place = ''\n",
    "   \n",
    "    data = [content, date, like, place, tags]\n",
    "    instagram = [instagram, data]\n",
    "    return data\n",
    "\n",
    "get_content(driver)"
   ]
  },
  {
   "cell_type": "code",
   "execution_count": null,
   "id": "e46e8d7a-794c-4707-a8d3-97ea31e1b04a",
   "metadata": {},
   "outputs": [],
   "source": [
    "def move_next(driver):\n",
    "\n",
    "    right = driver.find_element_by_css_selector ('a.coreSpriteRightPaginationArrow')\n",
    "    right.click()\n",
    "    time.sleep(3)\n",
    "\n",
    "move_next(driver)"
   ]
  },
  {
   "cell_type": "code",
   "execution_count": 74,
   "id": "b9986f9f-a9fd-4cc4-a7f8-6b51ee876d0b",
   "metadata": {},
   "outputs": [
    {
     "ename": "TypeError",
     "evalue": "int() argument must be a string, a bytes-like object or a number, not 'list'",
     "output_type": "error",
     "traceback": [
      "\u001b[1;31m---------------------------------------------------------------------------\u001b[0m",
      "\u001b[1;31mTypeError\u001b[0m                                 Traceback (most recent call last)",
      "\u001b[1;32m~\\AppData\\Local\\Temp/ipykernel_1276/1383539850.py\u001b[0m in \u001b[0;36m<module>\u001b[1;34m\u001b[0m\n\u001b[0;32m     13\u001b[0m \u001b[0minstagram\u001b[0m \u001b[1;33m=\u001b[0m \u001b[1;33m[\u001b[0m\u001b[1;33m]\u001b[0m\u001b[1;33m\u001b[0m\u001b[1;33m\u001b[0m\u001b[0m\n\u001b[0;32m     14\u001b[0m \u001b[1;33m\u001b[0m\u001b[0m\n\u001b[1;32m---> 15\u001b[1;33m \u001b[1;32mfor\u001b[0m \u001b[0mi\u001b[0m \u001b[1;32min\u001b[0m \u001b[0mrange\u001b[0m\u001b[1;33m(\u001b[0m\u001b[0mint\u001b[0m\u001b[1;33m(\u001b[0m\u001b[0mpostnumber\u001b[0m\u001b[1;33m)\u001b[0m \u001b[1;33m-\u001b[0m \u001b[1;36m1\u001b[0m\u001b[1;33m)\u001b[0m \u001b[1;33m:\u001b[0m\u001b[1;33m\u001b[0m\u001b[1;33m\u001b[0m\u001b[0m\n\u001b[0m\u001b[0;32m     16\u001b[0m     \u001b[0mget_content\u001b[0m\u001b[1;33m(\u001b[0m\u001b[0mdriver\u001b[0m\u001b[1;33m)\u001b[0m\u001b[1;33m\u001b[0m\u001b[1;33m\u001b[0m\u001b[0m\n\u001b[0;32m     17\u001b[0m     \u001b[0minstagram\u001b[0m \u001b[1;33m=\u001b[0m \u001b[1;33m[\u001b[0m\u001b[0minstagram\u001b[0m\u001b[1;33m,\u001b[0m \u001b[0mdata\u001b[0m\u001b[1;33m]\u001b[0m\u001b[1;33m\u001b[0m\u001b[1;33m\u001b[0m\u001b[0m\n",
      "\u001b[1;31mTypeError\u001b[0m: int() argument must be a string, a bytes-like object or a number, not 'list'"
     ]
    }
   ],
   "source": [
    "def insta_searching(word):\n",
    "    url = \"https://www.instagram.com/explore/tags/\" + word\n",
    "    return url\n",
    "import time\n",
    "\n",
    "word = \"산수갑산\"\n",
    "url = insta_searching(word)\n",
    "driver.get(url)\n",
    "postnumber = driver.find_elements_by_css_selector(\"span.g47SY\")\n",
    "time.sleep(5)\n",
    "\n",
    "select_first(driver)\n",
    "instagram = []\n",
    "\n",
    "for i in range(int(postnumber) - 1) :\n",
    "    get_content(driver)\n",
    "    instagram = [instagram, data]\n",
    "    move_next(driver)"
   ]
  },
  {
   "cell_type": "code",
   "execution_count": null,
   "id": "ed6cd517-5be1-4c5f-9197-9f53e1400c8d",
   "metadata": {},
   "outputs": [],
   "source": [
    "import pandas as pd\n",
    "\n",
    "results_df = pd.DataFrame(results)\n",
    "results_df.columns = ['content','data','like','place','tags']\n",
    "results_df.to_excel('C:/Users/POASISTOUR/Desktop/경북여행.xlsx')"
   ]
  }
 ],
 "metadata": {
  "kernelspec": {
   "display_name": "pydatavenv",
   "language": "python",
   "name": "pydatavenv"
  },
  "language_info": {
   "codemirror_mode": {
    "name": "ipython",
    "version": 3
   },
   "file_extension": ".py",
   "mimetype": "text/x-python",
   "name": "python",
   "nbconvert_exporter": "python",
   "pygments_lexer": "ipython3",
   "version": "3.8.11"
  }
 },
 "nbformat": 4,
 "nbformat_minor": 5
}
