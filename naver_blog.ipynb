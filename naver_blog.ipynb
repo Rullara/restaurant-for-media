{
 "cells": [
  {
   "cell_type": "markdown",
   "id": "e9c58792-2b2c-4f0d-b50b-4a3652307a49",
   "metadata": {},
   "source": [
    "# 네이버 블로그로 파급력을 측정합니다."
   ]
  },
  {
   "cell_type": "markdown",
   "id": "d8fbeefc-d181-49aa-9409-9bfe8d722019",
   "metadata": {},
   "source": [
    "<naverapi 응답 구조>  \n",
    "lastBuildDate : api 요청한 시각  \n",
    "total : 관련 블로그 수  \n",
    "start : 시작  \n",
    "display : 가져온 갯수  \n",
    "items : 블로그  \n",
    "<items 구조>  \n",
    "title : 블로그 제목    \n",
    "link : 블로그 링크  \n",
    "description : 블로그 내용  \n",
    "bloggername : 블로그 이름  \n",
    "bloggerlink : 블로그 메인화면  \n",
    "postdate : 게시날짜  "
   ]
  },
  {
   "cell_type": "code",
   "execution_count": null,
   "id": "85b302bc-8b1f-498c-bafe-f3934065d1ee",
   "metadata": {},
   "outputs": [],
   "source": [
    "import urllib.request\n",
    "import json\n",
    "import pandas as pd\n",
    "import re\n",
    "from konlpy.tag import Kkma"
   ]
  },
  {
   "cell_type": "code",
   "execution_count": null,
   "id": "76c7d57e-9b60-40ef-899c-364b62614396",
   "metadata": {},
   "outputs": [],
   "source": [
    "class NaverData:\n",
    "    count = -1\n",
    "    power = pd.DataFrame(columns = [\"id\",\"resource\", \"restaurant\", \"before\", \"after\", \"blogTotal\", \"blogDisplay\", \"referenceDate\"])\n",
    "    power.set_index(['id'], inplace=True)\n",
    "    findData = pd.DataFrame(columns = [\"id\", \"resource\", \"restaurant\", \"data\"])\n",
    "    findData.set_index(['id'], inplace=True)\n",
    "    \n",
    "    def __init__(self, resource, restaurant, display=20, referenceDate=None):\n",
    "        self.resource = resource\n",
    "        self.restaurant = restaurant\n",
    "        naverData = NaverData.naverBlog(restaurant, display)\n",
    "        self.lastBuildDate = naverData[\"lastBuildDate\"]\n",
    "        self.total = naverData[\"total\"]\n",
    "        self.start = naverData[\"start\"]\n",
    "        self.display = naverData[\"display\"]\n",
    "        self.items = NaverData.cleanIteams(pd.DataFrame(naverData[\"items\"]))\n",
    "        self.referenceData = self.findResource()\n",
    "        self.referenceDate = referenceDate\n",
    "        NaverData.count = NaverData.count + 1\n",
    "        self.id = NaverData.count\n",
    "        self.addPower()\n",
    "        NaverData.findData.loc[self.id] = [resource, restaurant, self]\n",
    "    \n",
    "    def __del__(self):\n",
    "        NaverData.power.drop(self.id, inplace=True)\n",
    "        NaverData.findData.drop(self.id, inplace=True)\n",
    "        print(self.id, \"번 데이터를 지웁니다.\")\n",
    "    \n",
    "    # 네이버 ReatAPI\n",
    "    def naverBlog(query, num) :\n",
    "        client_key = 'izGsqP2exeThwwEUVU3x'\n",
    "        client_secret = 'WrwbQ1l6ZI'\n",
    "        encText = urllib.parse.quote_plus(query)\n",
    "        naver_url = 'https://openapi.naver.com/v1/search/blog.json?query=' + encText + '&display=' + str(num)\n",
    "        print(\"url:\", naver_url)\n",
    "\n",
    "        # request 객체에 add하기\n",
    "        request = urllib.request.Request(naver_url)\n",
    "        request.add_header(\"X-Naver-Client-Id\",client_key)\n",
    "        request.add_header(\"X-Naver-Client-Secret\",client_secret)\n",
    "        response = urllib.request.urlopen(request)\n",
    "        # 응답받은 코드가 정상적인지 확인하기\n",
    "        rescode = response.getcode()\n",
    "        if(rescode == 200):\n",
    "            response_body = response.read()\n",
    "            dataList = json.loads(response_body)\n",
    "            return dataList\n",
    "        else:\n",
    "            print('오류 코드 : ' + rescode)\n",
    "    \n",
    "    def cleanIteams(itemsdf):\n",
    "        \"\"\"\n",
    "        items데이터프라임 -> items데이터프라임\n",
    "         - items데이터프라임 title열과 description열에서 <b></b>&quot; 등 없얘기\n",
    "         - items데이터프레임 postdate 타입을 datetime으로 변경하기\n",
    "        \"\"\"\n",
    "        for i in range(itemsdf.shape[0]):\n",
    "            # title열 데이터 정리하기\n",
    "            title = re.sub(\"<b>|</b>\", \" \", str(itemsdf.loc[i,\"title\"]))\n",
    "            title = re.sub(\"&.{1,5};\", \"\", title)\n",
    "            title = re.sub(\" ( )+\", \"\", title)\n",
    "            itemsdf.loc[i,\"title\"] = title\n",
    "            # description열 데이터 정리하기\n",
    "            description = re.sub(\"<b>|</b>\", \" \", str(itemsdf.loc[i,\"description\"]))\n",
    "            description = re.sub(\"&.{1,5};\", \"\", description)\n",
    "            description = re.sub(\" ( )+\", \"\", description)\n",
    "            itemsdf.loc[i,\"description\"] = description\n",
    "            # postdate열 타입을 datetime로 바꾸기\n",
    "            itemsdf['postdate'] = pd.to_datetime(itemsdf['postdate'])\n",
    "        return itemsdf\n",
    "    \n",
    "    def findResource(self):\n",
    "        \"\"\"\n",
    "        items 데이터프레임 title열과 description열에서 resource단어가 들어간 데이터를 찾아 줍니다.\n",
    "        \"\"\"\n",
    "        kkma = Kkma()\n",
    "        mask = (self.items[\"title\"] + self.items[\"description\"]).map(kkma.nouns).map(lambda x: self.resource in x)\n",
    "        return self.items.loc[mask]\n",
    "    \n",
    "    def findOldestDate(self):\n",
    "        \"\"\"\n",
    "        찾아온 데이터 중 블로그 제목과 설명에 제공자이름이 들어간 데이터 중 가장 오래된 데이터를 찾습니다.\n",
    "        \"\"\"\n",
    "        if len(self.referenceData) <= 0:\n",
    "            print(\"해당 게시물이 없습니다.\")\n",
    "            return \"2099-12-31 00:00:00\"\n",
    "        else:\n",
    "            return self.referenceData.sort_values(by='postdate', ascending=True).iloc[0][\"postdate\"]\n",
    "    \n",
    "    def countBF(self):\n",
    "        \"\"\"\n",
    "        기준일을 기준으로 이전 게시물 갯수와 이후 게시물 갯수를 세줍니다.\n",
    "        반환값 : {'before':X, 'after': X}\n",
    "        \"\"\"\n",
    "        # 기준일을 받지 않으면 게시물 중 가장 오래된 날짜로 지정한다.\n",
    "        if self.referenceDate is None:\n",
    "            self.referenceDate = self.findOldestDate()\n",
    "        before = len(self.referenceData.loc[self.referenceData['postdate'] < self.referenceDate])\n",
    "        after = len(self.referenceData.loc[self.referenceData['postdate'] >= self.referenceDate])\n",
    "        return {'before':before, 'after': after}\n",
    "    \n",
    "    def addPower(self):\n",
    "        bf = self.countBF()\n",
    "        NaverData.power.loc[self.id] = [self.resource, self.restaurant, bf[\"before\"],\n",
    "                                        bf[\"after\"], self.total, self.display, self.referenceDate]\n",
    "        display(NaverData.power)"
   ]
  },
  {
   "cell_type": "code",
   "execution_count": null,
   "id": "2e09044f-d1bc-4756-860b-9c8347b74a20",
   "metadata": {},
   "outputs": [],
   "source": [
    "naverdata1 = NaverData(\"츄릅켠\", \"소문난원조쌈밥\")\n",
    "naverdata2 = NaverData(\"김준현\", \"원조수구레\")"
   ]
  },
  {
   "cell_type": "code",
   "execution_count": null,
   "id": "76cafca4-512a-41d5-bfeb-6a6824dba7f2",
   "metadata": {},
   "outputs": [],
   "source": [
    "del naverdata2"
   ]
  },
  {
   "cell_type": "code",
   "execution_count": null,
   "id": "457a39f2-62c1-427a-b382-2ed866bb18b4",
   "metadata": {},
   "outputs": [],
   "source": [
    "# 클래스 메소들 만들기\n",
    "mask = (NaverData.findData[\"resource\"] == \"김준현\") & (NaverData.findData[\"restaurant\"] == \"원조수구레\")\n",
    "NaverData.findData.loc[mask].iloc[0][\"data\"].items"
   ]
  },
  {
   "cell_type": "markdown",
   "id": "f60b2d9e-cf8a-43b4-94f1-7fb6fb040f38",
   "metadata": {},
   "source": [
    "# 실험"
   ]
  },
  {
   "cell_type": "code",
   "execution_count": null,
   "id": "4ef1b1be-5c3c-4e6b-b5e6-dd5a44d4b2a1",
   "metadata": {},
   "outputs": [],
   "source": [
    "# html 빼기\n",
    "text = \"민락<동 얼큰칼국수&quot;<b>츄릅켠</b> 님 방송 보고 다녀옴!!!&quot;\"\n",
    "text = re.sub(\"<b>|</b>\", \" \", text)\n",
    "text = re.sub(\"&.{1,5};\", \"\", text)\n",
    "print(text)"
   ]
  },
  {
   "cell_type": "code",
   "execution_count": null,
   "id": "8cb55b6e-73ea-4f14-9011-ff9c6a5f4950",
   "metadata": {},
   "outputs": [],
   "source": [
    "sample = \"해운대 원조할매국밥을 찾아가듯이 이 분위기와 쌈밥이 땡길때면 재방문할 의향이 있네요...\"\n",
    "kkma = Kkma() \n",
    "kkma.nouns(sample)\n",
    "# pprint(kkma.morphs(sample))\n",
    "# pprint(kkma.pos(sample))"
   ]
  },
  {
   "cell_type": "markdown",
   "id": "060ad344-cfa8-4ad3-95af-5efa3042a4ad",
   "metadata": {},
   "source": [
    "# 문제모음"
   ]
  },
  {
   "cell_type": "markdown",
   "id": "ecb9274f-4ad6-44ea-923b-32dbd1054eb8",
   "metadata": {},
   "source": [
    "1. 인스턴스가 삭제가 안됩니다."
   ]
  },
  {
   "cell_type": "code",
   "execution_count": null,
   "id": "76816d2c-c6ac-4cbd-9d1a-a356103a0149",
   "metadata": {},
   "outputs": [],
   "source": []
  }
 ],
 "metadata": {
  "kernelspec": {
   "display_name": "Python 3 (ipykernel)",
   "language": "python",
   "name": "python3"
  },
  "language_info": {
   "codemirror_mode": {
    "name": "ipython",
    "version": 3
   },
   "file_extension": ".py",
   "mimetype": "text/x-python",
   "name": "python",
   "nbconvert_exporter": "python",
   "pygments_lexer": "ipython3",
   "version": "3.8.11"
  }
 },
 "nbformat": 4,
 "nbformat_minor": 5
}
