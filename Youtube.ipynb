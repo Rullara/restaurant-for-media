{
 "cells": [
  {
   "cell_type": "markdown",
   "id": "7c072ed3-9904-4de6-a6b8-cc7af8e95b81",
   "metadata": {},
   "source": [
    "# 맛집 유튜브 채널 찾기\n",
    "결과 : data/youtube_channel.xlsx  \n",
    "\n",
    "방법1 : 목록을 정리해 놓은 글을 찾아서 정리한다.  \n",
    "방법2 : [PLAYBOARD](https://playboard.co/)에서 특정 검색어(부산 맛집)를 입력해 크롤링한다.   \n",
    "방법3 : 유튜브에서 특정 검색어(맛집)를 입력해 크롤링한다.  "
   ]
  },
  {
   "cell_type": "markdown",
   "id": "f7b1e8b3-8888-4dc0-853b-dc810018f85a",
   "metadata": {},
   "source": [
    "# 유튜브 채널에서 추천한 맛집 찾기\n",
    "~~방법1 : 유튜브API : 동영상은 제공해주지만 동영상 제목은 제공해주지 않습니다.~~  \n",
    "방법 : 유튜브 크롤링"
   ]
  },
  {
   "cell_type": "code",
   "execution_count": 16,
   "id": "560618ee-b212-42c8-9103-7e25b651fe70",
   "metadata": {},
   "outputs": [],
   "source": [
    "# 사용한 라이브러리\n",
    "from selenium import webdriver\n",
    "import time\n",
    "import pandas as pd"
   ]
  },
  {
   "cell_type": "code",
   "execution_count": 16,
   "id": "d4103686-e91e-4295-9c89-f79722d4f66d",
   "metadata": {},
   "outputs": [
    {
     "data": {
      "text/html": [
       "<div>\n",
       "<style scoped>\n",
       "    .dataframe tbody tr th:only-of-type {\n",
       "        vertical-align: middle;\n",
       "    }\n",
       "\n",
       "    .dataframe tbody tr th {\n",
       "        vertical-align: top;\n",
       "    }\n",
       "\n",
       "    .dataframe thead th {\n",
       "        text-align: right;\n",
       "    }\n",
       "</style>\n",
       "<table border=\"1\" class=\"dataframe\">\n",
       "  <thead>\n",
       "    <tr style=\"text-align: right;\">\n",
       "      <th></th>\n",
       "      <th>크리에이터</th>\n",
       "    </tr>\n",
       "  </thead>\n",
       "  <tbody>\n",
       "    <tr>\n",
       "      <th>0</th>\n",
       "      <td>맛상무</td>\n",
       "    </tr>\n",
       "    <tr>\n",
       "      <th>1</th>\n",
       "      <td>정육왕</td>\n",
       "    </tr>\n",
       "    <tr>\n",
       "      <th>2</th>\n",
       "      <td>맛있겠다 Yummy</td>\n",
       "    </tr>\n",
       "    <tr>\n",
       "      <th>3</th>\n",
       "      <td>섬마을훈태TV</td>\n",
       "    </tr>\n",
       "    <tr>\n",
       "      <th>4</th>\n",
       "      <td>떡볶퀸 Tteokbokqueen</td>\n",
       "    </tr>\n",
       "  </tbody>\n",
       "</table>\n",
       "</div>"
      ],
      "text/plain": [
       "               크리에이터\n",
       "0                맛상무\n",
       "1                정육왕\n",
       "2         맛있겠다 Yummy\n",
       "3            섬마을훈태TV\n",
       "4  떡볶퀸 Tteokbokqueen"
      ]
     },
     "metadata": {},
     "output_type": "display_data"
    }
   ],
   "source": [
    "# 유튜브 채널 가져오기\n",
    "youtube_channels = pd.read_excel(\"./data/youtube_channel.xlsx\", sheet_name=\"Sheet1\")\n",
    "# '제공'열 삭제\n",
    "youtube_channels.drop('제공', axis=1, inplace=True)\n",
    "# 중복 데이터 삭제\n",
    "youtube_channels.drop_duplicates(keep='first')\n",
    "display(youtube_channels.head(5))"
   ]
  },
  {
   "cell_type": "code",
   "execution_count": 17,
   "id": "672f61a5-fea7-4135-b389-47ed7defccee",
   "metadata": {},
   "outputs": [],
   "source": [
    "# 크롤링\n",
    "# 드라이버 준비\n",
    "driver = webdriver.Chrome('C:/Temp/chromedriver')\n",
    "# 유튜브 들어가기\n",
    "driver.get(\"https://www.youtube.com/\")\n",
    "time.sleep(2)"
   ]
  },
  {
   "cell_type": "code",
   "execution_count": null,
   "id": "96959e7c-784d-4e86-9030-a7a22049d336",
   "metadata": {},
   "outputs": [],
   "source": []
  }
 ],
 "metadata": {
  "kernelspec": {
   "display_name": "Python 3 (ipykernel)",
   "language": "python",
   "name": "python3"
  },
  "language_info": {
   "codemirror_mode": {
    "name": "ipython",
    "version": 3
   },
   "file_extension": ".py",
   "mimetype": "text/x-python",
   "name": "python",
   "nbconvert_exporter": "python",
   "pygments_lexer": "ipython3",
   "version": "3.8.11"
  }
 },
 "nbformat": 4,
 "nbformat_minor": 5
}
