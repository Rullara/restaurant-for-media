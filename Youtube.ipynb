{
 "cells": [
  {
   "cell_type": "markdown",
   "id": "7c072ed3-9904-4de6-a6b8-cc7af8e95b81",
   "metadata": {},
   "source": [
    "# 맛집 유튜브 채널 찾기\n",
    "결과 : data/youtube_channel.xlsx  \n",
    "\n",
    "방법1 : 목록을 정리해 놓은 글을 찾아서 정리한다.  \n",
    "방법2 : [PLAYBOARD](https://playboard.co/)에서 특정 검색어(부산 맛집)를 입력해 크롤링한다.   \n",
    "방법3 : 유튜브에서 특정 검색어(맛집)를 입력해 크롤링한다.  "
   ]
  },
  {
   "cell_type": "markdown",
   "id": "f7b1e8b3-8888-4dc0-853b-dc810018f85a",
   "metadata": {},
   "source": [
    "# 유튜브 채널에서 추천한 맛집 찾기\n",
    "~~방법1 : 유튜브API : 동영상은 제공해주지만 동영상 제목은 제공해주지 않습니다.~~  \n",
    "방법 : 유튜브 크롤링"
   ]
  },
  {
   "cell_type": "code",
   "execution_count": null,
   "id": "560618ee-b212-42c8-9103-7e25b651fe70",
   "metadata": {},
   "outputs": [],
   "source": [
    "# 사용한 라이브러리\n",
    "from selenium import webdriver\n",
    "import time\n",
    "import pandas as pd\n",
    "from selenium.webdriver.common.keys import Keys\n",
    "import urllib\n",
    "import numpy as na\n",
    "import re"
   ]
  },
  {
   "cell_type": "code",
   "execution_count": null,
   "id": "d4103686-e91e-4295-9c89-f79722d4f66d",
   "metadata": {},
   "outputs": [],
   "source": [
    "# 유튜브 채널 가져오기\n",
    "youtube_channels = pd.read_excel(\"./data/youtube_channel.xlsx\", sheet_name=\"Sheet1\")\n",
    "# '제공'열 삭제\n",
    "youtube_channels.drop('제공', axis=1, inplace=True)\n",
    "# 중복 데이터 삭제\n",
    "youtube_channels.drop_duplicates(keep='first')\n",
    "display(youtube_channels.head(5))"
   ]
  },
  {
   "cell_type": "code",
   "execution_count": null,
   "id": "b85ccfe8-7fec-4242-b0a0-4360f2d15dc3",
   "metadata": {},
   "outputs": [],
   "source": [
    "# 크롤링\n",
    "# 드라이버 준비\n",
    "driver = webdriver.Chrome('C:/Temp/chromedriver')\n",
    "driver.implicitly_wait(3)"
   ]
  },
  {
   "cell_type": "code",
   "execution_count": null,
   "id": "b8c8ef9d-0783-457d-9203-78e2215bb379",
   "metadata": {},
   "outputs": [],
   "source": [
    "# 해당 채널 인기동영상 페이지 요청\n",
    "# 모든 채널의 url이 저렇게 되지 않습니다.\n",
    "key = youtube_channels.loc[9, '크리에이터']\n",
    "url = \"https://www.youtube.com/c/\" + urllib.parse.quote(key).replace(\"%20\", \"\") + \"/videos?view=0&sort=p&flow=grid\"\n",
    "driver.get(url)\n",
    "time.sleep(2)"
   ]
  },
  {
   "cell_type": "markdown",
   "id": "4ba04bfc-da03-4f8f-b70d-cf03f4f5f5c8",
   "metadata": {},
   "source": [
    "# 츄릅켠 맛집 정보가져오기"
   ]
  },
  {
   "cell_type": "code",
   "execution_count": null,
   "id": "5d8308a7-1dcc-4c65-a6ce-acad0a36cf2c",
   "metadata": {},
   "outputs": [],
   "source": [
    "# 츄릅켠 홈 채널 들어가기\n",
    "driver.get(\"https://www.youtube.com/c/ekekekTV/videos?view=0&sort=p&flow=grid\")\n",
    "# 30개의 동영상 url 가져오기\n",
    "temp = []\n",
    "video_titles = driver.find_elements_by_css_selector(\"#video-title\")\n",
    "for rank, video_title in enumerate(video_titles, 1):\n",
    "    temp.append([rank, video_title.text, video_title.get_attribute(\"href\")])"
   ]
  },
  {
   "cell_type": "code",
   "execution_count": null,
   "id": "d43fc0ce-46a0-465b-a465-769bdfcc9fe3",
   "metadata": {},
   "outputs": [],
   "source": [
    "# 2차원 배열 -> 데이터프레임\n",
    "df = pd.DataFrame(temp, \n",
    "                   columns=['인기도 순위', '동영상 제목', '동영상 링크'])\n",
    "display(df)"
   ]
  },
  {
   "cell_type": "code",
   "execution_count": null,
   "id": "5419f134-b7e1-4187-89d0-d7c2990d8594",
   "metadata": {},
   "outputs": [],
   "source": [
    "df[\"정보\"] = na.NaN\n",
    "df[\"업로드날짜\"] = na.NaN\n",
    "for i in range(df.shape[0]):\n",
    "    print(df.loc[i, \"동영상 링크\"])\n",
    "    driver.get(df.loc[i, \"동영상 링크\"])\n",
    "    time.sleep(5)\n",
    "    info = driver.find_element_by_css_selector(\"#description > yt-formatted-string > span:nth-child(1)\")\n",
    "    print(info.text)\n",
    "    df.loc[i, \"정보\"] = info.text\n",
    "    date = driver.find_element_by_css_selector(\"#info-strings > yt-formatted-string\")\n",
    "    print(date.text)\n",
    "    df.loc[i, \"업로드날짜\"] = date.text\n",
    "    \n",
    "df[\"맛집\"] = na.NaN\n",
    "for row in range(df.shape[0]):\n",
    "    df.loc[row, \"맛집\"] = re.search(\"^\\[.*\", df.loc[row, \"정보\"]).group()[1:-1]\n",
    "    \n",
    "# 채널이름 넣기\n",
    "df[\"정보제공\"] = \"츄릅켠\""
   ]
  },
  {
   "cell_type": "markdown",
   "id": "efcbf4e7-19e8-4d6d-84de-c7294d4771e5",
   "metadata": {},
   "source": [
    "# 더들리 맛집 정보가져오기"
   ]
  },
  {
   "cell_type": "code",
   "execution_count": null,
   "id": "e2c8335d-81ea-484b-a9fc-8f8277e3819b",
   "metadata": {},
   "outputs": [],
   "source": [
    "# 더들리 홈 채널 들어가기\n",
    "driver.get(\"https://www.youtube.com/c/%EB%8D%94%EB%93%A4%EB%A6%AC/videos?view=0&sort=p&flow=grid\")\n",
    "# 30개의 동영상 url 가져오기\n",
    "temp = []\n",
    "video_titles = driver.find_elements_by_css_selector(\"#video-title\")\n",
    "for rank, video_title in enumerate(video_titles, 1):\n",
    "    temp.append([rank, video_title.text, video_title.get_attribute(\"href\")])"
   ]
  },
  {
   "cell_type": "code",
   "execution_count": null,
   "id": "a4f186bc-a0ba-450f-bc6f-7b0d5edd3558",
   "metadata": {},
   "outputs": [],
   "source": [
    "# 2차원 배열 -> 데이터프레임\n",
    "df2 = pd.DataFrame(temp, \n",
    "                   columns=['인기도 순위', '동영상 제목', '동영상 링크'])\n",
    "display(df2)"
   ]
  },
  {
   "cell_type": "code",
   "execution_count": null,
   "id": "3f64d077-7402-4e80-9844-d1e808ffacfd",
   "metadata": {},
   "outputs": [],
   "source": [
    "df2[\"정보\"] = na.NaN\n",
    "df2[\"업로드날짜\"] = na.NaN\n",
    "df2[\"맛집\"] = na.NaN\n",
    "for i in range(df.shape[0]):\n",
    "    print(df2.loc[i, \"동영상 링크\"])\n",
    "    driver.get(df2.loc[i, \"동영상 링크\"])\n",
    "    time.sleep(5)\n",
    "    info = driver.find_element_by_css_selector(\"#description > yt-formatted-string > span:nth-child(3)\")\n",
    "    # print(info.text)\n",
    "    df2.loc[i, \"정보\"] = info.text\n",
    "    date = driver.find_element_by_css_selector(\"#info-strings > yt-formatted-string\")\n",
    "    print(date.text)\n",
    "    df2.loc[i, \"업로드날짜\"] = date.text\n",
    "    restaurant = driver.find_element_by_css_selector(\"#container > yt-formatted-string > a:nth-child(1)\")\n",
    "    print(restaurant.text)\n",
    "    df2.loc[i, \"맛집\"] = restaurant.text"
   ]
  },
  {
   "cell_type": "code",
   "execution_count": null,
   "id": "552a1787-b6a6-4ebf-997b-13da313b4e0a",
   "metadata": {},
   "outputs": [],
   "source": [
    "for row in range(df.shape[0]):\n",
    "    df2.loc[row, \"맛집\"] = df2.loc[row, \"맛집\"].replace(\"#\",\"\")"
   ]
  },
  {
   "cell_type": "code",
   "execution_count": null,
   "id": "27f96771-d7c0-44aa-a301-251f7fe72b65",
   "metadata": {},
   "outputs": [],
   "source": [
    "# 채널이름 넣기\n",
    "df2[\"정보제공\"] = \"더들리\""
   ]
  },
  {
   "cell_type": "code",
   "execution_count": null,
   "id": "f987f506-b69f-42dd-9bee-ae248ce17a9c",
   "metadata": {},
   "outputs": [],
   "source": [
    "df2"
   ]
  },
  {
   "cell_type": "markdown",
   "id": "64edd564-603d-44ab-9521-490876f767f4",
   "metadata": {},
   "source": [
    "# 각 채널에서 생성된 데이터프레임 합치기"
   ]
  },
  {
   "cell_type": "code",
   "execution_count": null,
   "id": "f3884750-5cbb-4da2-ae0a-3b3152312683",
   "metadata": {},
   "outputs": [],
   "source": [
    "# 나중에 반복문으로 돌려주세요\n",
    "youtube_restaurant = pd.DataFrame()\n",
    "youtube_restaurant = pd.concat([youtube_restaurant, df])\n",
    "youtube_restaurant = pd.concat([youtube_restaurant, df2])"
   ]
  },
  {
   "cell_type": "code",
   "execution_count": null,
   "id": "1da5c6af-a27d-45c1-8b03-3f63b130b01a",
   "metadata": {},
   "outputs": [],
   "source": [
    "youtube_restaurant.to_csv(\"./data/youtube_restaurant.csv\",index = False, header=True)\n",
    "youtube_restaurant"
   ]
  },
  {
   "cell_type": "markdown",
   "id": "4a78e0aa-e408-44b5-844b-00d2f4e6101f",
   "metadata": {},
   "source": [
    "# 실험"
   ]
  },
  {
   "cell_type": "code",
   "execution_count": null,
   "id": "0e4809a9-6e21-472b-aeae-4b70384bcf01",
   "metadata": {},
   "outputs": [],
   "source": [
    "# 행찾기\n",
    "youtube_channels.loc[9, '크리에이터']"
   ]
  },
  {
   "cell_type": "code",
   "execution_count": null,
   "id": "3178e3f8-a3df-459f-8f93-3922b6bd5b1f",
   "metadata": {},
   "outputs": [],
   "source": [
    "# 스크롤내리기\n",
    "driver.execute_script('window.scrollBy(0, 1080);')\n",
    "                time.sleep(2)"
   ]
  },
  {
   "cell_type": "code",
   "execution_count": null,
   "id": "dded745b-a56b-463a-a13b-657b760bf861",
   "metadata": {},
   "outputs": [],
   "source": [
    "# 정규표현식\n",
    "import re\n",
    "text = \"[부산 서면 티파니돈까스]\\n차장 (10분에 700원)\\n 승용차부제, 경차, 친환경차 50% 감면\"\n",
    "re.search(\"^\\[.*\", text).group()[1:-1]"
   ]
  },
  {
   "cell_type": "markdown",
   "id": "817a2cb8-0aaa-471d-baaf-fdb4a38c9676",
   "metadata": {},
   "source": [
    "# 하다가 버린 코드"
   ]
  },
  {
   "cell_type": "code",
   "execution_count": null,
   "id": "ab83db6d-6de6-45b8-a0dd-3285c3161eb3",
   "metadata": {},
   "outputs": [],
   "source": [
    "\"\"\"\n",
    "버린이유 : 바로 인기동영상 페이지로 가서 동영상을 가져올려고 한다. 이 코드는 바로 가지 않는다.\n",
    "\"\"\"\n",
    "# 해당 채널 페이지 요청\n",
    "key = youtube_channels.loc[4, '크리에이터']\n",
    "url = \"https://www.youtube.com/c/\" + urllib.parse.quote(key).replace(\"%20\", \"\")\n",
    "driver.get(url)\n",
    "time.sleep(2)\n",
    "# 동영상 페이지로 이동\n",
    "video_link = driver.find_element_by_css_selector(\"#tabsContent > tp-yt-paper-tab:nth-child(4) > div\")\n",
    "video_link.click()\n",
    "# 정렬기준 선택\n",
    "video_link = driver.find_element_by_css_selector(\"#icon-label\")\n",
    "video_link.click()"
   ]
  },
  {
   "cell_type": "code",
   "execution_count": null,
   "id": "43bfebcf-d5b6-422d-acb6-729c3d25b9cd",
   "metadata": {},
   "outputs": [],
   "source": [
    "\"\"\"\n",
    "버린이유 : flex 기술로 인해 드라이버가 모르는 태그는 작동을 시킬 수 없다.\n",
    "\"\"\"\n",
    "# 정렬기준 선택\n",
    "video_link = driver.find_element_by_css_selector(\"#menu > a.yt-simple-endpoint.style-scope.yt-dropdown-menu.iron-selected > tp-yt-paper-item\")\n",
    "video_link.click()\n",
    "time.sleep(1)"
   ]
  },
  {
   "cell_type": "code",
   "execution_count": null,
   "id": "717b079c-61e3-4523-8f1e-952e1a353f5d",
   "metadata": {},
   "outputs": [],
   "source": [
    "\"\"\"\n",
    "사용한 이유 : &기호를 잘못 변환해서 사용했다.\n",
    "버린이유 :  왜 인지 인기동영상으로 넘어가지 않는다.\n",
    "\"\"\"\n",
    "# 해당 채널 페이지 요청\n",
    "key = youtube_channels.loc[4, '크리에이터']\n",
    "url = \"https://www.youtube.com/c/\" + urllib.parse.quote(key).replace(\"%20\", \"\") + \"/videos?view=0&sort=p&flow=grid\"\n",
    "driver.get(url)\n",
    "time.sleep(2)"
   ]
  },
  {
   "cell_type": "code",
   "execution_count": null,
   "id": "7d753987-28f1-439e-9643-92a176833c2b",
   "metadata": {
    "tags": []
   },
   "outputs": [],
   "source": [
    "\"\"\"\n",
    "버린이유 : 한번에 채널을 불러오는 것이 더 좋을 것이라고 판단해서\n",
    "\"\"\"\n",
    "# 크롤링\n",
    "# 드라이버 준비\n",
    "driver = webdriver.Chrome('C:/Temp/chromedriver')\n",
    "driver.implicitly_wait(3)\n",
    "# 키워드를 포함한 페이지 요청 \n",
    "key = youtube_channels.loc[4, '크리에이터']\n",
    "url = \"https://www.youtube.com/results?search_query=\" + urllib.parse.quote(key)\n",
    "driver.get(url)\n",
    "time.sleep(2)"
   ]
  },
  {
   "cell_type": "code",
   "execution_count": null,
   "id": "c8c2bc2d-4d9f-42fe-9c63-6e27c0ad135f",
   "metadata": {},
   "outputs": [],
   "source": [
    "\"\"\"\n",
    "버린이유 : 검색창에 글을 못 써서\n",
    "\"\"\"\n",
    "# 크롤링\n",
    "# 드라이버 준비\n",
    "driver = webdriver.Chrome('C:/Temp/chromedriver')\n",
    "driver.implicitly_wait(3)\n",
    "# 유튜브 들어가기\n",
    "driver.get(\"https://www.youtube.com/\")\n",
    "time.sleep(2)\n",
    "# 검색어 입력\n",
    "inputId = driver.find_element_by_id('search')\n",
    "inputId.send_keys(\"맛상무\")\n",
    "inputId.send_keys(Keys.ENTER)"
   ]
  },
  {
   "cell_type": "code",
   "execution_count": null,
   "id": "bbda69e8-34bf-49e0-88f8-cfc395c8db1d",
   "metadata": {},
   "outputs": [],
   "source": [
    "\"\"\"\n",
    "제공 : https://gist.github.com/WoongheeLee/70cb07f2fc1f32a76c82a99d84d51044\n",
    "버린이유 : 서브 버튼 클릭이 아니라서\n",
    "\"\"\"\n",
    "import time\n",
    "\n",
    "from selenium import webdriver\n",
    "from selenium.webdriver.common.by import By\n",
    "from selenium.webdriver.support.ui import WebDriverWait\n",
    "from selenium.webdriver.support import expected_conditions as EC\n",
    "\n",
    "def get_image_title(url):\n",
    "    # 웹 드라이버 초기화\n",
    "    driver_path = 'C:/Temp/chromedriver'\n",
    "    driver = webdriver.Chrome(driver_path)\n",
    "    driver.implicitly_wait(5) # or bigger second\n",
    "    \n",
    "    # 열고자 하는 채널 -> 동영상 목록으로 된 url 페이지를 엶\n",
    "    driver.get(url)\n",
    "    \n",
    "    image_list = list() # 썸네일을 받을 수 있는 주소 저장용 리스트\n",
    "    title_list = list() # 썸네일 제목을 저장하는 리스트\n",
    "\n",
    "    idx = 1\n",
    "    while True:\n",
    "        try:\n",
    "            img_xpath = '/html/body/ytd-app/div/ytd-page-manager/ytd-browse/ytd-two-column-browse-results-renderer/div[1]/ytd-section-list-renderer/div[2]/ytd-item-section-renderer/div[3]/ytd-grid-renderer/div[1]/ytd-grid-video-renderer['+str(idx)+']/div[1]/ytd-thumbnail/a/yt-img-shadow/img'\n",
    "            title_xpath = '/html/body/ytd-app/div/ytd-page-manager/ytd-browse/ytd-two-column-browse-results-renderer/div[1]/ytd-section-list-renderer/div[2]/ytd-item-section-renderer/div[3]/ytd-grid-renderer/div[1]/ytd-grid-video-renderer['+str(idx)+']/div[1]/div[1]/div[1]/h3/a'\n",
    "            \n",
    "            # 이미지가 곧바로 로드 되지 않을 때, 20초간 강제로 기다림\n",
    "            img = WebDriverWait(driver, 20).until(EC.presence_of_all_elements_located((By.XPATH, img_xpath)))\n",
    "            if img is None:\n",
    "                print(idx, 'img is not loaded.')\n",
    "            \n",
    "            # 한 페이지에 약 8개 불러오는 데, 동영상 목록을 추가 불러오기 위해 스크롤 내림\n",
    "            if idx % 8 == 0 :\n",
    "                driver.execute_script('window.scrollBy(0, 1080);')\n",
    "                time.sleep(2)\n",
    "                driver.execute_script('window.scrollBy(0, 1080);')\n",
    "                time.sleep(2)\n",
    "                driver.execute_script('window.scrollBy(0, 1080);')\n",
    "                time.sleep(2)\n",
    "            \n",
    "            # 썸네일 주소를 리스트에 저장\n",
    "            image = driver.find_element_by_xpath(img_xpath)\n",
    "            img_url = image.get_attribute('src')\n",
    "            image_list.append(img_url)\n",
    "\n",
    "            # 타이틀을 리스트에 저장\n",
    "            title = driver.find_element_by_xpath(title_xpath)\n",
    "            print(idx,title.text,img_url)\n",
    "            title_list.append(title.text)\n",
    "\n",
    "            idx += 1\n",
    "        except Exception as e:\n",
    "            print()\n",
    "            print(e)\n",
    "            break\n",
    "    assert len(image_list) == len(title_list)\n",
    "    driver.close()\n",
    "    return image_list, title_list\n",
    "\n",
    "# 자이언트 펭TV\n",
    "url1 = 'https://m.youtube.com/channel/UCtckgmUcpzqGnzcs7xEqMzQ/videos'\n",
    "image1, title1 = get_image_title(url1)\n",
    "print(title1)"
   ]
  },
  {
   "cell_type": "markdown",
   "id": "865be8c6-d52c-43fb-bf12-f040cb343d80",
   "metadata": {},
   "source": [
    "# 이슈"
   ]
  },
  {
   "cell_type": "markdown",
   "id": "7564d693-264a-4770-bc90-9e6eff8e67cf",
   "metadata": {},
   "source": [
    "\n",
    "해결방안 : https://www.python2.net/questions-895942.htm"
   ]
  },
  {
   "cell_type": "code",
   "execution_count": null,
   "id": "215efa8a-ee6e-436c-889a-19b274ac2ac8",
   "metadata": {},
   "outputs": [],
   "source": []
  }
 ],
 "metadata": {
  "kernelspec": {
   "display_name": "Python 3 (ipykernel)",
   "language": "python",
   "name": "python3"
  },
  "language_info": {
   "codemirror_mode": {
    "name": "ipython",
    "version": 3
   },
   "file_extension": ".py",
   "mimetype": "text/x-python",
   "name": "python",
   "nbconvert_exporter": "python",
   "pygments_lexer": "ipython3",
   "version": "3.8.11"
  }
 },
 "nbformat": 4,
 "nbformat_minor": 5
}
