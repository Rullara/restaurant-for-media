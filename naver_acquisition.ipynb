{
 "cells": [
  {
   "cell_type": "markdown",
   "id": "e9c58792-2b2c-4f0d-b50b-4a3652307a49",
   "metadata": {},
   "source": [
    "# 네이버 블로그로 파급력을 측정합니다."
   ]
  },
  {
   "cell_type": "code",
   "execution_count": null,
   "id": "51a5d96f-b72a-4c52-b196-84dbb6fa99bc",
   "metadata": {},
   "outputs": [],
   "source": [
    "import urllib.request\n",
    "import json\n",
    "import pandas as pd\n",
    "import re\n",
    "# 글에서 해당 키워드 찾기\n",
    "from konlpy.tag import Kkma\n",
    "# 시각화\n",
    "import matplotlib.pyplot as plt\n",
    "import seaborn as sns\n",
    "import numpy as np\n",
    "# 트리맵\n",
    "import squarify"
   ]
  },
  {
   "cell_type": "markdown",
   "id": "d8fbeefc-d181-49aa-9409-9bfe8d722019",
   "metadata": {},
   "source": [
    "<naverapi 응답 구조>  \n",
    "lastBuildDate : api 요청한 시각  \n",
    "total : 관련 블로그 수  \n",
    "start : 시작  \n",
    "display : 가져온 갯수  \n",
    "items : 블로그  \n",
    "<items 구조>  \n",
    "title : 블로그 제목    \n",
    "link : 블로그 링크  \n",
    "description : 블로그 내용  \n",
    "bloggername : 블로그 이름  \n",
    "bloggerlink : 블로그 메인화면  \n",
    "postdate : 게시날짜  "
   ]
  },
  {
   "cell_type": "markdown",
   "id": "9959bc95-170c-436f-a5cf-5e903b072f8b",
   "metadata": {},
   "source": [
    "가정1 : 이영자님의 영향을 받은 사람은 32명이다.  \n",
    "가정2 : 이영자님의 영향을 받은 사람은 144명이다."
   ]
  },
  {
   "cell_type": "markdown",
   "id": "b85a82b6-e792-4172-8822-d6ae4be0889a",
   "metadata": {},
   "source": [
    "# 크롤링"
   ]
  },
  {
   "cell_type": "markdown",
   "id": "88b56d8b-5e56-4082-8151-4a08b91216cb",
   "metadata": {},
   "source": [
    "## 1. 주요 클래스"
   ]
  },
  {
   "cell_type": "code",
   "execution_count": null,
   "id": "628b3b64-5a56-4534-9d4e-84b0a7faecfd",
   "metadata": {},
   "outputs": [],
   "source": [
    "class NaverData:\n",
    "    count = -1\n",
    "    power = pd.DataFrame(columns = [\"id\",\"resource\", \"restaurant\", \"oldestDate\", \"reference_before\", \"referenceDate\",\n",
    "                                    \"reference_after\", \"mostRecentDate\", \"blogTotal\", \"blogDisplay\", \"resource_count\"])\n",
    "    power.set_index(['id'], inplace=True)\n",
    "    findData = pd.DataFrame(columns = [\"id\", \"resource\", \"restaurant\", \"data\"])\n",
    "    findData.set_index(['id'], inplace=True)\n",
    "    \n",
    "    def __init__(self, resource, restaurant, display=200, referenceDate=None, data=None):\n",
    "        self.resource = resource\n",
    "        self.restaurant = restaurant\n",
    "        if data is None:\n",
    "            # 네이버 api로 데이터 가져오기\n",
    "            naverData = NaverData.naverBlog(restaurant, display)\n",
    "            self.lastBuildDate = naverData[\"lastBuildDate\"]\n",
    "            self.total = naverData[\"total\"]\n",
    "            self.display = display\n",
    "            self.items = NaverData.cleanIteams(pd.DataFrame(naverData[\"items\"]))\n",
    "        else:\n",
    "            # 로컬 저장소에 있는 데이터 가져오기\n",
    "            tempData = data\n",
    "            self.lastBuildDate = tempData[\"lastBuildDate\"]\n",
    "            self.total = tempData[\"total\"]\n",
    "            self.display = tempData[\"display\"]\n",
    "            self.items = tempData[\"items\"]\n",
    "        self.oldestDate = self.findOldestDate()\n",
    "        self.mostRecentDate = self.findMostRecentDate()\n",
    "        self.referenceData = self.findResource()\n",
    "        self.referenceDate = referenceDate\n",
    "        NaverData.count = NaverData.count + 1\n",
    "        self.id = NaverData.count\n",
    "        self.addPower()\n",
    "        NaverData.findData.loc[self.id] = [resource, restaurant, self]\n",
    "        print(resource, restaurant)\n",
    "    \n",
    "                                               \n",
    "    def __del__(self):\n",
    "        NaverData.power.drop(self.id, inplace=True)\n",
    "        NaverData.findData.drop(self.id, inplace=True)\n",
    "        print(self.id, \"번 데이터를 지웁니다.\")\n",
    "    \n",
    "    # 네이버 ReatAPI\n",
    "    def naverBlog(query, num) :\n",
    "        client_key = 'izGsqP2exeThwwEUVU3x'\n",
    "        client_secret = 'WrwbQ1l6ZI'\n",
    "        encText = urllib.parse.quote_plus(query)\n",
    "        count = [[i,100] for i in range(1, num, 100)]\n",
    "        if num % 100:\n",
    "            count[-1][1] = num % 100 \n",
    "        for i in count:\n",
    "            naver_url = 'https://openapi.naver.com/v1/search/blog.json?query=' + encText + '&display=' + str(i[1]) +'&start=' + str(i[0])\n",
    "            # request 객체에 add하기\n",
    "            request = urllib.request.Request(naver_url)\n",
    "            request.add_header(\"X-Naver-Client-Id\",client_key)\n",
    "            request.add_header(\"X-Naver-Client-Secret\",client_secret)\n",
    "            response = urllib.request.urlopen(request)\n",
    "            # 응답받은 코드가 정상적인지 확인하기\n",
    "            rescode = response.getcode()\n",
    "            if(rescode == 200):\n",
    "                response_body = response.read()\n",
    "                if i[0] == 1:\n",
    "                    dataList = json.loads(response_body)\n",
    "                else:\n",
    "                    dataList[\"items\"] = dataList[\"items\"] + json.loads(response_body)[\"items\"]\n",
    "            else:\n",
    "                print('오류 코드 : ' + rescode)\n",
    "        return dataList\n",
    "    \n",
    "    def cleanIteams(itemsdf):\n",
    "        \"\"\"\n",
    "        items데이터프라임 -> items데이터프라임\n",
    "         - items데이터프라임 title열과 description열에서 <b></b>&quot; 등 없얘기\n",
    "         - items데이터프레임 postdate 타입을 datetime으로 변경하기\n",
    "        \"\"\"\n",
    "        for i in range(itemsdf.shape[0]):\n",
    "            # title열 데이터 정리하기\n",
    "            title = re.sub(\"<b>|</b>\", \" \", str(itemsdf.loc[i,\"title\"]))\n",
    "            title = re.sub(\"&.{1,5};\", \"\", title)\n",
    "            title = re.sub(\" ( )+\", \"\", title)\n",
    "            itemsdf.loc[i,\"title\"] = title\n",
    "            # description열 데이터 정리하기\n",
    "            description = re.sub(\"<b>|</b>\", \" \", str(itemsdf.loc[i,\"description\"]))\n",
    "            description = re.sub(\"&.{1,5};\", \"\", description)\n",
    "            description = re.sub(\" ( )+\", \"\", description)\n",
    "            itemsdf.loc[i,\"description\"] = description\n",
    "            # postdate열 타입을 datetime로 바꾸기\n",
    "            itemsdf['postdate'] = pd.to_datetime(itemsdf['postdate'])\n",
    "        return itemsdf\n",
    "    \n",
    "    def findResource(self):\n",
    "        \"\"\"\n",
    "        items 데이터프레임 title열과 description열에서 resource단어가 들어간 데이터를 찾아 줍니다.\n",
    "        \"\"\"\n",
    "        kkma = Kkma()\n",
    "        mask = (self.items[\"title\"] + self.items[\"description\"]).map(kkma.nouns).map(lambda x: self.resource in x)\n",
    "        return self.items.loc[mask]\n",
    "    \n",
    "    def findReferenceDate(self):\n",
    "        \"\"\"\n",
    "        찾아온 데이터 중 블로그 제목과 설명에 제공자이름이 들어간 데이터 중 가장 오래된 데이터를 찾습니다.\n",
    "        \"\"\"\n",
    "        if len(self.referenceData) <= 0:\n",
    "            print(\"해당 게시물이 없습니다.\")\n",
    "            return pd.to_datetime('2099-12-31')  \n",
    "        else:\n",
    "            return self.referenceData.sort_values(by='postdate', ascending=True).iloc[0][\"postdate\"]\n",
    "        \n",
    "    def findOldestDate(self):\n",
    "        \"\"\"\n",
    "        찾아온 데이터 중 가장 오래된 데이터를 찾습니다.\n",
    "        \"\"\"\n",
    "        return self.items.sort_values(by='postdate', ascending=True).iloc[0][\"postdate\"]\n",
    "    \n",
    "    def findMostRecentDate(self):\n",
    "        \"\"\"\n",
    "        찾아온 데이터 중 가장 최근 데이터를 찾습니다.\n",
    "        \"\"\"\n",
    "        return self.items.sort_values(by='postdate', ascending=False).iloc[0][\"postdate\"]\n",
    "    \n",
    "    def countBF(self):\n",
    "        \"\"\"\n",
    "        기준일을 기준으로 이전 게시물 갯수와 이후 게시물 갯수를 세줍니다.\n",
    "        반환값 : {'before':X, 'after': X, 'resource_after':X}\n",
    "        \"\"\"\n",
    "        # 기준일을 받지 않으면 게시물 중 가장 오래된 날짜로 지정한다.\n",
    "        if self.referenceDate is None:\n",
    "            self.referenceDate = self.findReferenceDate()\n",
    "        before = len(self.items.loc[self.items['postdate'] < self.referenceDate])\n",
    "        after = len(self.items.loc[self.items['postdate'] >= self.referenceDate])\n",
    "        resource_after = len(self.referenceData.loc[self.referenceData['postdate'] >= self.referenceDate])\n",
    "        return {'before':before, 'after': after, 'resource_after': resource_after}\n",
    "    \n",
    "    def addPower(self):\n",
    "        bf = self.countBF()\n",
    "        NaverData.power.loc[self.id] = [self.resource, self.restaurant, self.oldestDate, bf[\"before\"], self.referenceDate,\n",
    "                                        bf[\"after\"], self.mostRecentDate, self.total, self.display, bf['resource_after']]"
   ]
  },
  {
   "cell_type": "markdown",
   "id": "6b5d93ed-c364-47f6-bfe7-a7e83975b9c2",
   "metadata": {},
   "source": [
    "## 2-1. 데이터 수집 (주의! 오래걸립니다..)로컬 저장소에 저장된 데이터 가져오기"
   ]
  },
  {
   "cell_type": "code",
   "execution_count": null,
   "id": "b765da71-7d5a-4117-93cb-5226aeacb001",
   "metadata": {},
   "outputs": [],
   "source": [
    "# rowdata 클래스로 만들기\n",
    "temp = pd.read_csv(\"./data/naver_blog/total_power.csv\")\n",
    "for row in range(len(temp)):\n",
    "    file = \"./data/naver_blog/rowdata/\" + temp.iloc[row][\"restaurant\"] + \"_\" + temp.iloc[row][\"resource\"] + \".csv\"\n",
    "    temp_items = pd.read_csv(file)\n",
    "    data = {\"lastBuildDate\": None, \"total\": temp.iloc[row][\"blogTotal\"], \"display\" : len(temp_items),\n",
    "           \"items\" : temp_items}\n",
    "    try:\n",
    "        NaverData(temp.iloc[row][\"resource\"], temp.iloc[row][\"restaurant\"], data=data)\n",
    "    except:\n",
    "        pass"
   ]
  },
  {
   "cell_type": "code",
   "execution_count": null,
   "id": "6e8729b1-19b2-4122-a838-e18597230139",
   "metadata": {},
   "outputs": [],
   "source": [
    "# 전체 정보 가져오기\n",
    "naver_power = pd.read_csv(\"./data/naver_blog/total_power.csv\")"
   ]
  },
  {
   "cell_type": "markdown",
   "id": "ffd9833d-326d-46a7-8276-0d061618ee41",
   "metadata": {},
   "source": [
    "## 2-2. 데이터 수집(naver Rest API)"
   ]
  },
  {
   "cell_type": "code",
   "execution_count": null,
   "id": "555d15d5-660d-403c-b90c-d3ea81489bd6",
   "metadata": {},
   "outputs": [],
   "source": [
    "# 음식점 데이터(분석대상 데이터) 가져오기\n",
    "df = pd.read_excel(\"./output/음식점 모음.xlsx\", sheet_name=\"Sheet1\")\n",
    "resource_rastaurantDF = pd.DataFrame(columns = [\"resource\",\"rastaurant\"])\n",
    "# 데이터 변환하기\n",
    "for col in df.columns:\n",
    "    rastaurant = df[col].dropna()\n",
    "    temp = pd.DataFrame({\"rastaurant\": rastaurant, \"resource\" : col})\n",
    "    resource_rastaurantDF = resource_rastaurantDF.append(temp)\n",
    "resource_rastaurantDF.reset_index(inplace=True)\n",
    "resource_rastaurantDF.drop(\"index\", axis=1, inplace=True)"
   ]
  },
  {
   "cell_type": "code",
   "execution_count": null,
   "id": "761be8cf-abcf-4d68-9d22-6dd146282d14",
   "metadata": {},
   "outputs": [],
   "source": [
    "# naver API\n",
    "# 만약 멈췄을때를 대비해서 미리미리 저장합니다\n",
    "# 식당데이터를 20개씩 자르기\n",
    "count = list(range(0, len(resource_rastaurantDF), 20)) + [len(resource_rastaurantDF)]\n",
    "for i in range(len(count)-1):\n",
    "    for row in range(count[i], count[i+1]):\n",
    "        # 네이버 api로 데이터 요청하기\n",
    "        tempNaverData = NaverData(resource_rastaurantDF.loc[row, \"resource\"], resource_rastaurantDF.loc[row, \"rastaurant\"])\n",
    "        # 블로그 데이터 저장하기\n",
    "        file = \"./data/naver_blog/rowdata/\" + NaverData.findData.loc[row, \"restaurant\"] + \"_\" + NaverData.findData.loc[row, \"resource\"] + \".csv\"\n",
    "        NaverData.findData.loc[row, \"data\"].items.to_csv(file, index=False)"
   ]
  },
  {
   "cell_type": "markdown",
   "id": "b63e2826-52cb-4e76-8a20-58aca0dd4f01",
   "metadata": {},
   "source": [
    "## 3. 파급력 측정하기\n",
    "네이버 데이터 : 음식점과 관련성이 높은 블로그글 순으로 200개의 데이터를 가져옵니다.  \n",
    "기준일 : 네이버 데이터 중 제공기관 키워드가 블로그 제목이나 간략한 설명에 들어간 글 중 가장 오래전에 포스트된 날짜  \n",
    "        (관련된 글이 없다면 기준일은 \"2099-12-31 00:00:00\"이 됩니다.)  \n",
    "        \n",
    "### 가게에 대한 신뢰도 : 미디어가 해당 음식점의 영향력에 얼마나 주었나\n",
    "power3 : 해당 미디어의 영향력  \n",
    "reliability2 : 영향력이 얼마나 큰가\n",
    "### 파급력의 신뢰도 : 미디어 파급력에 영향을 받아서 글을 작성할 확률\n",
    "reliability\n",
    "\n",
    "#### (후보) 미디어의 파급력 : 미디어가 해당 음식점의 영향력에 얼마나 주었나\n",
    "측정 : 기준일을 기준으로 전과 후에 얼마나 급격하게 포스팅 갯수가 늘어났나  \n",
    "\n",
    "power = (reference_after - reference_before) / 200?  \n",
    "power2 = [resource_count/ {(reference after - resource_count)/ reference before}+ reference before] / reference before    \n",
    "power3 = (기준일 후 게시물 개수 / [(가장 마지막 게시물 날짜- 기준일) / (마지막날짜 - 오래된 날짜) * 100] - 기준일 전 게시물 개수 / [(기준일 - 게시물 중 가장 오래된 날짜) / (마지막날짜 - 오래된 날짜) * 100]\n",
    "\n",
    "\n",
    "(power값이 높을수록 파급력이 좋다. 최댓값 : 200, 최솟값 : -200)  \n",
    "문제점 : 해당 미디어키워드는 고려하지 않았으므로 미디어에 영향을 받아서 간건지 아닌지 알 수 없음\n",
    "#### (후보) 미디어의 파급력의 신뢰성 : 측정한 파급력을 얼마나 신뢰해야 할것인가\n",
    "측정 : 기준일을 기점으로 이후 포스팅되는 글 중 해당 미디어를 키워드를 작성한 글의 퍼센트  \n",
    "reliability = resource_count / reference_after * 100%  \n",
    "reliability2 = reference_after/(reference_affter - resource_count) *100%  \n",
    "(reliability값이 높을수록 측정한 파급력을 더 믿을 수 있다.)\n",
    "문제점 : 해당 미디어에 영향을 받았음에도 블로그 제목이나 간략한 내용에 작성하지 않은 사람이 있을 수 있다. 따라서 신뢰성은 매우 낮게 나올 수 밖에 없다.)\n",
    "\n",
    "#### 가정\n",
    "\trestaurant\treference_before\treferenceDate\treference_after\tblogTotal\tblogDisplay\tresource_count\n",
    "\t산골농원\t56\t2019-05-24 00:00:00\t144\t5101\t200\t32\n",
    "가정1 : 이영자님의 영향을 받은 사람은 32명이다.  \n",
    "가정2 : 이영자님의 영향을 받은 사람은 144명이다."
   ]
  },
  {
   "cell_type": "code",
   "execution_count": null,
   "id": "30d4990e-28e6-4980-9929-cb29ca9aade4",
   "metadata": {},
   "outputs": [],
   "source": [
    "# 파급력 열 추가히기\n",
    "# 파일 가져오기\n",
    "naver_total = pd.read_csv(\"./data/naver_blog/total_power.csv\")\n",
    "# 형 변환\n",
    "naver_total[\"oldestDate\"] = pd.to_datetime(naver_total[\"oldestDate\"]).apply(pd.Timestamp)\n",
    "naver_total[\"referenceDate\"] = pd.to_datetime(naver_total[\"referenceDate\"]).apply(pd.Timestamp)\n",
    "naver_total[\"mostRecentDate\"] = pd.to_datetime(naver_total[\"mostRecentDate\"]).apply(pd.Timestamp)\n",
    "# power3열 추가\n",
    "# (기준일 후 게시물 개수 / [(가장 마지막 게시물 날짜- 기준일) / (마지막날짜 - 오래된 날짜) * 100] - 기준일 전 게시물 개수 / [(기준일 - 게시물 중 가장 오래된 날짜) / (마지막날짜 - 오래된 날짜) * 100]\n",
    "# [기준일 후 게시물 개수 / (가장 마지막 게시물 날짜- 기준일) - 기준일 전 게시물 개수 / (기준일 - 게시물 중 가장 오래된 날짜)]* 100 *(마지막날짜 - 오래된 날짜)\n",
    "naver_total[\"power3\"] = ( naver_total[\"reference_after\"] / pd.to_numeric((naver_total[\"mostRecentDate\"] - naver_total[\"referenceDate\"]).dt.days, downcast='integer') - naver_total[\"reference_before\"] / pd.to_numeric((naver_total[\"referenceDate\"] - naver_total[\"oldestDate\"]).dt.days, downcast='integer')) * pd.to_numeric((naver_total[\"mostRecentDate\"] - naver_total[\"oldestDate\"]).dt.days, downcast='integer') / 100\n",
    "# reliability2열 추가\n",
    "naver_total[\"reliability2\"] = naver_total[\"resource_count\"] / (naver_total[\"reference_after\"] - naver_total[\"resource_count\"]) * 100\n",
    "# reliability열 추가\n",
    "naver_total[\"reliability\"] = naver_total[\"resource_count\"] / naver_total[\"reference_after\"] * 100\n",
    "# 결측치 처리 \n",
    "naver_total['power3'].fillna(0, inplace=True)\n",
    "naver_total['reliability2'].fillna(100, inplace=True)\n",
    "naver_total['reliability'].fillna(0, inplace=True)\n",
    "# 그룹열 만들기\n",
    "연예인 = [\"이영자\", \"백종원\", \"성시경\", \"신동엽\", \"최자\", \"비(정지훈)\", \"문세윤\", \"김준현\"]\n",
    "유튜버 = [\"더들리\", \"츄릅켠\"]\n",
    "방송프로그램 = [\"수요미식회\", \"생생정보통\", \"전참시\", \"생활의 달인\", \"6시 내 고향\", \"골목식당\", \"생방송 오늘 저녁\", \"모닝 와이드\", \"맛있는 녀석들\", \"생방송 투데이\"]\n",
    "groups = [연예인, 유튜버, 방송프로그램]\n",
    "groups_names = [\"연예인\", \"유튜버\", \"방송프로그램\"]\n",
    "for i, groups in enumerate(groups):\n",
    "    for media in groups:\n",
    "        naver_total.loc[naver_total[\"resource\"] == media, \"group\"] = groups_names[i]\n",
    "display(naver_total)\n",
    "naver_total.to_csv(\"./data/naver_blog/total_power.csv\", index=False)"
   ]
  },
  {
   "cell_type": "markdown",
   "id": "fbce2bf1-b665-492f-8594-e1d993294fa6",
   "metadata": {},
   "source": [
    "## 4. 확인하기"
   ]
  },
  {
   "cell_type": "code",
   "execution_count": null,
   "id": "22f6ab97-8901-46d9-9e85-93062d5ca77a",
   "metadata": {},
   "outputs": [],
   "source": [
    "display(NaverData.power)"
   ]
  },
  {
   "cell_type": "markdown",
   "id": "50a73905-8ab8-4046-9ca8-526327f27f3e",
   "metadata": {},
   "source": [
    "## 5. 저장하기"
   ]
  },
  {
   "cell_type": "code",
   "execution_count": null,
   "id": "6a3a1c03-b31d-4c72-b5f0-156602d41450",
   "metadata": {},
   "outputs": [],
   "source": [
    "# 파급력 저장하기\n",
    "NaverData.power.to_csv(\"./data/naver_blog/total_power.csv\", index=False)"
   ]
  },
  {
   "cell_type": "code",
   "execution_count": null,
   "id": "db3ab364-4e39-42a8-be1d-c9ad4bf18da2",
   "metadata": {},
   "outputs": [],
   "source": [
    "# 각각의 items데이터 저장하기\n",
    "for row in range(len(NaverData.findData)):\n",
    "    file = \"./data/naver_blog/rowdata/\" + NaverData.findData.loc[row, \"restaurant\"] + \"_\" + NaverData.findData.loc[row, \"resource\"] + \".csv\"\n",
    "    NaverData.findData.loc[row, \"data\"].items.to_csv(file, index=False)"
   ]
  },
  {
   "cell_type": "code",
   "execution_count": null,
   "id": "f6167745-0845-4ac4-9ee4-12de07e26a0a",
   "metadata": {},
   "outputs": [],
   "source": [
    "# 각각의 rowdata_resource 데이터 저장하기\n",
    "for row in range(len(NaverData.findData)):\n",
    "    file = \"./data/naver_blog/rowdata_resource/\" + NaverData.findData.loc[row, \"restaurant\"] + \"_\" + NaverData.findData.loc[row, \"resource\"] + \".csv\"\n",
    "    NaverData.findData.loc[row, \"data\"].referenceData.to_csv(file, index=False)"
   ]
  },
  {
   "cell_type": "markdown",
   "id": "31bc7aa8-c687-42ae-9017-333354225783",
   "metadata": {},
   "source": [
    "# 해볼 수 있는일"
   ]
  },
  {
   "cell_type": "code",
   "execution_count": null,
   "id": "6acd1b4a-1db1-4bb8-b8aa-2a2676347d8f",
   "metadata": {},
   "outputs": [],
   "source": [
    "# 클래스 메소드 만들기\n",
    "mask = (NaverData.findData[\"resource\"] == \"김준현\") & (NaverData.findData[\"restaurant\"] == \"원조수구레\")\n",
    "NaverData.findData.loc[mask].iloc[0][\"data\"].items"
   ]
  },
  {
   "cell_type": "markdown",
   "id": "f60b2d9e-cf8a-43b4-94f1-7fb6fb040f38",
   "metadata": {},
   "source": [
    "# 실험"
   ]
  },
  {
   "cell_type": "code",
   "execution_count": null,
   "id": "4ef1b1be-5c3c-4e6b-b5e6-dd5a44d4b2a1",
   "metadata": {},
   "outputs": [],
   "source": [
    "# html 빼기\n",
    "text = \"민락<동 얼큰칼국수&quot;<b>츄릅켠</b> 님 방송 보고 다녀옴!!!&quot;\"\n",
    "text = re.sub(\"<b>|</b>\", \" \", text)\n",
    "text = re.sub(\"&.{1,5};\", \"\", text)\n",
    "print(text)"
   ]
  },
  {
   "cell_type": "code",
   "execution_count": null,
   "id": "8cb55b6e-73ea-4f14-9011-ff9c6a5f4950",
   "metadata": {},
   "outputs": [],
   "source": [
    "sample = \"해운대 원조할매국밥을 찾아가듯이 이 분위기와 쌈밥이 땡길때면 재방문할 의향이 있네요...\"\n",
    "kkma = Kkma() \n",
    "kkma.nouns(sample)\n",
    "# pprint(kkma.morphs(sample))\n",
    "# pprint(kkma.pos(sample))"
   ]
  },
  {
   "cell_type": "code",
   "execution_count": null,
   "id": "2e09044f-d1bc-4756-860b-9c8347b74a20",
   "metadata": {},
   "outputs": [],
   "source": [
    "naverdata1 = NaverData(\"츄릅켠\", \"소문난원조쌈밥\")\n",
    "naverdata2 = NaverData(\"김준현\", \"원조수구레\")"
   ]
  },
  {
   "cell_type": "code",
   "execution_count": null,
   "id": "f36e5a10-1acf-428a-95c1-cb419ebc4578",
   "metadata": {},
   "outputs": [],
   "source": [
    "plt.plot([10, 20, 30, 40], [1, 4, 9, 16], c=\"b\",\n",
    "         lw=5, ls=\"--\", marker=\"o\", ms=15, mec=\"g\", mew=5, mfc=\"r\")\n",
    "plt.title(\"스타일 적용 예\")\n",
    "plt.show()"
   ]
  },
  {
   "cell_type": "markdown",
   "id": "060ad344-cfa8-4ad3-95af-5efa3042a4ad",
   "metadata": {},
   "source": [
    "# 문제모음"
   ]
  },
  {
   "cell_type": "markdown",
   "id": "ecb9274f-4ad6-44ea-923b-32dbd1054eb8",
   "metadata": {},
   "source": [
    "1. 인스턴스가 삭제가 안됩니다.\n",
    "2. 파일 데이터를 불러올때 몇몇의 파일을 읽어오지 못합니다.\n",
    "3. seaborn에서 한글 폰트를 인식하지 못합니다."
   ]
  },
  {
   "cell_type": "code",
   "execution_count": null,
   "id": "5a3baf27-ef5d-4303-9cb3-a1b5ce704fc0",
   "metadata": {},
   "outputs": [],
   "source": [
    "# 폰트설정2\n",
    "sns.set(font=\"Malgun Gothic\", \n",
    "        rc={\"axes.unicode_minus\":False},\n",
    "        style='darkgrid')\n",
    "\n",
    "# 폰트설정3\n",
    "jupyter notebook 내 그래프를 바로 그리기 위한 설정\n",
    "%matplotlib inline\n",
    "# unicode minus를 사용하지 않기 위한 설정 (minus 깨짐현상 방지)\n",
    "plt.rcParams['axes.unicode_minus'] = False\n",
    "plt.rcParams['font.family'] = 'Malgun Gothic'\n",
    "\n",
    "# 폰트설정4\n",
    "%matplotlib inline\n",
    "import platform\n",
    "path = './data/THEdog.ttf'\n",
    "from matplotlib import font_manager, rc\n",
    "\n",
    "if platform.system() == 'Darwin':\n",
    "    rc('font', family='AppleGothic')\n",
    "elif platform.system() == 'Windows':\n",
    "    font_name = font_manager.FontProperties(fname=path).get_name()\n",
    "    rc('font', family=font_name)\n",
    "else:\n",
    "    print('Unkonwn system... sorry~~~~')"
   ]
  }
 ],
 "metadata": {
  "kernelspec": {
   "display_name": "Python 3 (ipykernel)",
   "language": "python",
   "name": "python3"
  },
  "language_info": {
   "codemirror_mode": {
    "name": "ipython",
    "version": 3
   },
   "file_extension": ".py",
   "mimetype": "text/x-python",
   "name": "python",
   "nbconvert_exporter": "python",
   "pygments_lexer": "ipython3",
   "version": "3.8.11"
  }
 },
 "nbformat": 4,
 "nbformat_minor": 5
}
