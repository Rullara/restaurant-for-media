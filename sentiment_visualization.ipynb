{
 "cells": [
  {
   "cell_type": "markdown",
   "id": "b09b5570-16eb-4c91-8e5c-c0c7fa6957eb",
   "metadata": {},
   "source": [
    "# 사전 워드 클라우드"
   ]
  },
  {
   "cell_type": "code",
   "execution_count": null,
   "id": "78b44bae-d9ab-4116-abe0-4fa7c94384e2",
   "metadata": {},
   "outputs": [],
   "source": [
    "from wordcloud import WordCloud        ## 워드 클라우드 모듈을 사용한다 \n",
    "import matplotlib.pyplot as plt \n",
    "from PIL import Image                                ## 이미지 파일을 처리하는 모듈을 사용한다. \n",
    "import numpy as np\n",
    "import pandas as pd\n",
    "# 폰트설정\n",
    "myfontpath = \"./data/font/NanumMyeongjo.ttf\" \n",
    "# 긍정사전과 부정사전 가져오기\n",
    "pos_df = pd.read_csv(\"./data/pos_df_test.csv\")\n",
    "neg_df = pd.read_csv(\"./data/neg_df_test.csv\")\n",
    "# 긍정, 부정 사전 정리 \n",
    "pos_df = pos_df[[\"weight\", \"word\"]]\n",
    "neg_df = neg_df[[\"weight\", \"word\"]]\n",
    "# 형변환\n",
    "pos_df[\"weight\"] = (round(pos_df[\"weight\"], 1) * 10).astype(\"int\")\n",
    "neg_df[\"weight\"] = (round(neg_df[\"weight\"], 1) * -10).astype(\"int\")\n",
    "# 폰트설정\n",
    "myfontpath = \"./data/font/21791942_산돌삼립호빵체Outline_TTF.ttf\""
   ]
  },
  {
   "cell_type": "code",
   "execution_count": null,
   "id": "03607210-5f01-4b72-963f-e99e8803efd5",
   "metadata": {},
   "outputs": [],
   "source": [
    "pos = \"\"\n",
    "for i in range(len(pos_df)):\n",
    "    pos = pos + (pos_df.loc[i, \"word\"] + \"  \") * pos_df.loc[i, \"weight\"]\n",
    "neg = \"\"\n",
    "for i in range(len(neg_df)):\n",
    "    neg = neg + (neg_df.loc[i, \"word\"] + \"  \") * neg_df.loc[i, \"weight\"]"
   ]
  },
  {
   "cell_type": "code",
   "execution_count": null,
   "id": "84c93eca-8ba9-4461-9ca1-6f8cc9a7351b",
   "metadata": {},
   "outputs": [],
   "source": [
    "# 긍정 사전 단어 클라우드\n",
    "# 저장할 곳\n",
    "custom_mask = np.array(Image.open(\"./images/smile1.png\"))\n",
    "wc = WordCloud(font_path = myfontpath, background_color=\"white\", \n",
    "               mask=custom_mask, contour_width=5, contour_color=\"royalblue\",\n",
    "               colormap = 'ocean')\n",
    "wc.generate(pos)\n",
    "wc.to_file('./output/senti/pos.png')\n",
    "plt.imshow(wc, interpolation='bilinear')\n",
    "plt.axis(\"off\")\n",
    "plt.show()"
   ]
  },
  {
   "cell_type": "code",
   "execution_count": null,
   "id": "838fafb0-cc82-48e2-bb90-2b2776274ed4",
   "metadata": {},
   "outputs": [],
   "source": [
    "# 부정 사전 클라우드\n",
    "# 저장할 곳\n",
    "custom_mask = np.array(Image.open(\"./images/angry.png\"))\n",
    "wc = WordCloud(font_path = myfontpath, background_color=\"white\", \n",
    "               mask=custom_mask, contour_width=5, contour_color=\"orange\",\n",
    "               colormap = 'YlOrBr')\n",
    "wc.generate(neg)\n",
    "wc.to_file('./output/senti/neg.png')\n",
    "plt.imshow(wc, interpolation='bilinear')\n",
    "plt.axis(\"off\")\n",
    "plt.show()"
   ]
  },
  {
   "cell_type": "code",
   "execution_count": null,
   "id": "abde83d0-bba3-441f-ae9e-a144a3065458",
   "metadata": {},
   "outputs": [],
   "source": [
    "# 색깔 지정\n",
    "def color_func(word, font_size, position,orientation,random_state=None, **kwargs):\n",
    "    return(\"hsl({:d},{:d}%, {:d}%)\".format(np.random.randint(55,60),np.random.randint(30,32),np.random.randint(30,50)))"
   ]
  }
 ],
 "metadata": {
  "kernelspec": {
   "display_name": "Python 3 (ipykernel)",
   "language": "python",
   "name": "python3"
  },
  "language_info": {
   "codemirror_mode": {
    "name": "ipython",
    "version": 3
   },
   "file_extension": ".py",
   "mimetype": "text/x-python",
   "name": "python",
   "nbconvert_exporter": "python",
   "pygments_lexer": "ipython3",
   "version": "3.8.11"
  }
 },
 "nbformat": 4,
 "nbformat_minor": 5
}
