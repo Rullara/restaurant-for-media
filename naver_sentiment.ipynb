{
 "cells": [
  {
   "cell_type": "markdown",
   "id": "e9255c15-e0cd-4a2c-b32e-9f172cccbebf",
   "metadata": {},
   "source": [
    "# 긍정적인 글 분류하기"
   ]
  },
  {
   "cell_type": "code",
   "execution_count": null,
   "id": "f38bcf61-1cd2-4e18-ba12-85b2739182c9",
   "metadata": {},
   "outputs": [],
   "source": [
    "import pandas as pd"
   ]
  },
  {
   "cell_type": "markdown",
   "id": "7ce8acd8-d245-4384-ba84-067eb47d468e",
   "metadata": {},
   "source": [
    "## 긍정사전과 부정사전 가져오기"
   ]
  },
  {
   "cell_type": "code",
   "execution_count": null,
   "id": "c5c142f3-c51e-47ab-b32c-9068c625ef27",
   "metadata": {},
   "outputs": [],
   "source": [
    "# 긍정사전과 부정사전 가져오기\n",
    "pos_df = pd.read_csv(\"./data/pos_df_test.csv\")\n",
    "neg_df = pd.read_csv(\"./data/neg_df_test.csv\")\n",
    "# 긍정, 부정 사전  리스트로 변환 \n",
    "pos_word = pos_df['word'].values.tolist()\n",
    "neg_word = neg_df['word'].values.tolist()"
   ]
  },
  {
   "cell_type": "markdown",
   "id": "071bd3c9-9bde-4855-bcef-0904687961e1",
   "metadata": {},
   "source": [
    "## \"sentiment1\"열 추가하기(완료 되었을때?)\n",
    "sentiment1 = 식당-미디어 모든 글의 긍정적인 단어 수 - 부정적인 수"
   ]
  },
  {
   "cell_type": "code",
   "execution_count": null,
   "id": "1760182b-bbb3-4a5a-83c0-3440d23ba64e",
   "metadata": {},
   "outputs": [],
   "source": [
    "# 종합 데이터 가져오기\n",
    "naver_total = pd.read_csv(\"./data/naver_blog/total_power.csv\")\n",
    "for row in range(len(naver_total)):\n",
    "    file = \"./data/naver_blog/rowdata_resource/\" + naver_total.iloc[row][\"restaurant\"] + \"_\" + naver_total.iloc[row][\"resource\"] + \".csv\"\n",
    "    data = pd.read_csv(file)\n",
    "    # 해당 파일의 하나의 행에 대한 감정분석\n",
    "    pos = 0\n",
    "    neg = 0\n",
    "    for i in range(len(data)):\n",
    "        for words in pos_word:\n",
    "            if words in data.iloc[i][\"description\"]:\n",
    "                pos += 1\n",
    "        for words in neg_word:\n",
    "            if words in data.iloc[i][\"description\"]:\n",
    "                neg += 1\n",
    "    # 해당 파일의 감정분석 결과 저장\n",
    "    naver_total.loc[row, \"sentiment1\"] = pos - neg\n",
    "# 파일로 저장\n",
    "naver_total.to_csv(\"./data/naver_blog/total_power.csv\", index=False)"
   ]
  },
  {
   "cell_type": "markdown",
   "id": "328309d1-283d-43b9-af10-5ef63baa3157",
   "metadata": {},
   "source": [
    "## \"sentiment2\"열 추가하기(완료 안되었을때?)\n",
    "sentiment2 = 글 하나하나에 positive와 negative를 붙이고(긍정단어 하나 이상이면 positive 0개 이면 negative/ 총 200개) 그 중 100개 이상이 positive라면 positive"
   ]
  },
  {
   "cell_type": "code",
   "execution_count": null,
   "id": "3d9f2bfd-6dac-4cb4-9cf6-2026c39caea7",
   "metadata": {},
   "outputs": [],
   "source": [
    "# 감정사전이 완료 되지 않았을 때\n",
    "# 종합 데이터 가져오기\n",
    "naver_total = pd.read_csv(\"./data/naver_blog/total_power.csv\")\n",
    "naver_total[\"sentiment2\"] = None\n",
    "for row in range(len(naver_total)):\n",
    "    file = \"./data/naver_blog/rowdata_resource/\" + naver_total.iloc[row][\"restaurant\"] + \"_\" + naver_total.iloc[row][\"resource\"] + \".csv\"\n",
    "    data = pd.read_csv(file)\n",
    "    # 해당 파일의 하나의 행에 대한 감정분석\n",
    "    data[\"senti\"] = None\n",
    "    for i in range(len(data)):\n",
    "        pos = 0\n",
    "        for words in pos_word:\n",
    "            if words in data.iloc[i][\"description\"]:\n",
    "                pos += 1\n",
    "        # 각 글의 긍정적인 단어가 1개만 있어도 긍정적인 글입니다.\n",
    "        if pos > 0:\n",
    "            data.loc[i,\"senti\"] = \"positive\"\n",
    "        else:\n",
    "            data.loc[i,\"senti\"] = \"negative\"\n",
    "    # 해당 파일의 감정분석 결과 저장\n",
    "    # positive가 반이상면 positive\n",
    "    sentiment2 = \"positive\" if len(data.loc[data[\"senti\"] == \"positive\"]) >= round(len(data) / 2, 0) else \"negative\"\n",
    "    naver_total.loc[row, \"sentiment2\"] = sentiment2\n",
    "# 파일로 저장\n",
    "naver_total.to_csv(\"./data/naver_blog/total_power.csv\", index=False)"
   ]
  }
 ],
 "metadata": {
  "kernelspec": {
   "display_name": "Python 3 (ipykernel)",
   "language": "python",
   "name": "python3"
  },
  "language_info": {
   "codemirror_mode": {
    "name": "ipython",
    "version": 3
   },
   "file_extension": ".py",
   "mimetype": "text/x-python",
   "name": "python",
   "nbconvert_exporter": "python",
   "pygments_lexer": "ipython3",
   "version": "3.8.11"
  }
 },
 "nbformat": 4,
 "nbformat_minor": 5
}
